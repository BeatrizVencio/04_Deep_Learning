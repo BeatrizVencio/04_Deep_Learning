{
  "cells": [
    {
      "cell_type": "markdown",
      "metadata": {
        "id": "JFqVDCq-QjEK"
      },
      "source": [
        "#RNNs, LSTM e GRU - Introdução às RNNs, Conceitos básicos e estrutura\n"
      ]
    },
    {
      "cell_type": "markdown",
      "metadata": {
        "id": "3E2S5dfPQjEN"
      },
      "source": [
        "### 1. Introdução às Redes Neurais Recorrentes (RNNs)\n",
        "\n",
        "#### Motivação para o Uso de RNNs\n",
        "Redes Neurais Recorrentes (RNNs) são uma classe de redes neurais especialmente adequadas para trabalhar com dados sequenciais. Diferente das redes neurais tradicionais, que assumem independência entre as entradas, as RNNs conseguem capturar dependências temporais ao manter um estado interno que é atualizado a cada passo temporal.\n",
        "\n",
        "#### Necessidade de Modelos que Possam Lidar com Dados Sequenciais\n",
        "- **Dados Sequenciais**: Muitos tipos de dados do mundo real são sequenciais, onde a ordem dos dados é crucial. Exemplos incluem séries temporais, texto, áudio, e vídeos.\n",
        "- **Dependências Temporais**: Em muitos casos, a predição de um determinado valor depende de valores anteriores na sequência. RNNs são projetadas para capturar e aprender essas dependências.\n",
        "\n",
        "#### Aplicações Comuns de RNNs\n",
        "- **Processamento de Linguagem Natural (PLN)**:\n",
        "  - **Tradução Automática**: Traduzir textos de um idioma para outro, onde o contexto das palavras anteriores influencia a tradução das palavras seguintes.\n",
        "  - **Análise de Sentimento**: Determinar o sentimento (positivo, negativo, neutro) de um texto, onde o significado de uma palavra pode depender de palavras anteriores.\n",
        "  - **Modelagem de Linguagem**: Prever a próxima palavra em uma sequência de palavras, útil em autocompletar e geração de texto.\n",
        "\n",
        "- **Séries Temporais**:\n",
        "  - **Previsão de Demanda**: Prever a demanda futura de produtos ou serviços com base em dados históricos.\n",
        "  - **Análise Financeira**: Analisar dados financeiros como preços de ações para prever tendências futuras.\n",
        "  - **Monitoramento de Sensores**: Analisar dados de sensores ao longo do tempo para detectar anomalias ou prever falhas.\n",
        "\n",
        "- **Reconhecimento de Fala**:\n",
        "  - **Transcrição de Áudio para Texto**: Converter fala em texto, onde o contexto temporal das palavras é essencial para a precisão da transcrição.\n",
        "  - **Comandos de Voz**: Reconhecer e interpretar comandos de voz, onde a sequência de palavras pode alterar o significado do comando.\n",
        "\n",
        "- **Gerenciamento de Diálogos**:\n",
        "  - **Chatbots e Assistentes Virtuais**: Manter o contexto de uma conversa para fornecer respostas mais coerentes e relevantes.\n",
        "\n",
        "RNNs são uma ferramenta poderosa para qualquer tarefa onde a ordem dos dados importa. Sua capacidade de manter um estado interno que é influenciado por entradas anteriores permite que capturem padrões complexos em dados sequenciais.\n"
      ]
    },
    {
      "cell_type": "code",
      "execution_count": 1,
      "metadata": {
        "id": "nbVEYa1MQjEP"
      },
      "outputs": [],
      "source": [
        "import numpy as np\n",
        "import pandas as pd\n",
        "import matplotlib.pyplot as plt\n",
        "import tensorflow as tf\n",
        "from tensorflow.keras.models import Sequential\n",
        "from tensorflow.keras.layers import SimpleRNN, Dense, Dropout\n",
        "from sklearn.preprocessing import MinMaxScaler\n",
        "from sklearn.model_selection import train_test_split"
      ]
    },
    {
      "cell_type": "code",
      "execution_count": 2,
      "metadata": {
        "id": "EzcA_wGYQjEQ"
      },
      "outputs": [],
      "source": [
        "df = pd.read_csv('acao_apple.csv')"
      ]
    },
    {
      "cell_type": "code",
      "execution_count": 3,
      "metadata": {
        "colab": {
          "base_uri": "https://localhost:8080/",
          "height": 206
        },
        "id": "Nihkn5hCQjER",
        "outputId": "056092f4-2ede-4fb0-df5f-c65403269082"
      },
      "outputs": [
        {
          "output_type": "execute_result",
          "data": {
            "text/plain": [
              "       data      valor\n",
              "0  1/2/2013  79.117142\n",
              "1  1/3/2013  78.268570\n",
              "2  1/4/2013  76.709999\n",
              "3  1/7/2013  74.571426\n",
              "4  1/8/2013  75.601425"
            ],
            "text/html": [
              "\n",
              "  <div id=\"df-8586eef5-2203-4bd3-a463-f1b3735db892\" class=\"colab-df-container\">\n",
              "    <div>\n",
              "<style scoped>\n",
              "    .dataframe tbody tr th:only-of-type {\n",
              "        vertical-align: middle;\n",
              "    }\n",
              "\n",
              "    .dataframe tbody tr th {\n",
              "        vertical-align: top;\n",
              "    }\n",
              "\n",
              "    .dataframe thead th {\n",
              "        text-align: right;\n",
              "    }\n",
              "</style>\n",
              "<table border=\"1\" class=\"dataframe\">\n",
              "  <thead>\n",
              "    <tr style=\"text-align: right;\">\n",
              "      <th></th>\n",
              "      <th>data</th>\n",
              "      <th>valor</th>\n",
              "    </tr>\n",
              "  </thead>\n",
              "  <tbody>\n",
              "    <tr>\n",
              "      <th>0</th>\n",
              "      <td>1/2/2013</td>\n",
              "      <td>79.117142</td>\n",
              "    </tr>\n",
              "    <tr>\n",
              "      <th>1</th>\n",
              "      <td>1/3/2013</td>\n",
              "      <td>78.268570</td>\n",
              "    </tr>\n",
              "    <tr>\n",
              "      <th>2</th>\n",
              "      <td>1/4/2013</td>\n",
              "      <td>76.709999</td>\n",
              "    </tr>\n",
              "    <tr>\n",
              "      <th>3</th>\n",
              "      <td>1/7/2013</td>\n",
              "      <td>74.571426</td>\n",
              "    </tr>\n",
              "    <tr>\n",
              "      <th>4</th>\n",
              "      <td>1/8/2013</td>\n",
              "      <td>75.601425</td>\n",
              "    </tr>\n",
              "  </tbody>\n",
              "</table>\n",
              "</div>\n",
              "    <div class=\"colab-df-buttons\">\n",
              "\n",
              "  <div class=\"colab-df-container\">\n",
              "    <button class=\"colab-df-convert\" onclick=\"convertToInteractive('df-8586eef5-2203-4bd3-a463-f1b3735db892')\"\n",
              "            title=\"Convert this dataframe to an interactive table.\"\n",
              "            style=\"display:none;\">\n",
              "\n",
              "  <svg xmlns=\"http://www.w3.org/2000/svg\" height=\"24px\" viewBox=\"0 -960 960 960\">\n",
              "    <path d=\"M120-120v-720h720v720H120Zm60-500h600v-160H180v160Zm220 220h160v-160H400v160Zm0 220h160v-160H400v160ZM180-400h160v-160H180v160Zm440 0h160v-160H620v160ZM180-180h160v-160H180v160Zm440 0h160v-160H620v160Z\"/>\n",
              "  </svg>\n",
              "    </button>\n",
              "\n",
              "  <style>\n",
              "    .colab-df-container {\n",
              "      display:flex;\n",
              "      gap: 12px;\n",
              "    }\n",
              "\n",
              "    .colab-df-convert {\n",
              "      background-color: #E8F0FE;\n",
              "      border: none;\n",
              "      border-radius: 50%;\n",
              "      cursor: pointer;\n",
              "      display: none;\n",
              "      fill: #1967D2;\n",
              "      height: 32px;\n",
              "      padding: 0 0 0 0;\n",
              "      width: 32px;\n",
              "    }\n",
              "\n",
              "    .colab-df-convert:hover {\n",
              "      background-color: #E2EBFA;\n",
              "      box-shadow: 0px 1px 2px rgba(60, 64, 67, 0.3), 0px 1px 3px 1px rgba(60, 64, 67, 0.15);\n",
              "      fill: #174EA6;\n",
              "    }\n",
              "\n",
              "    .colab-df-buttons div {\n",
              "      margin-bottom: 4px;\n",
              "    }\n",
              "\n",
              "    [theme=dark] .colab-df-convert {\n",
              "      background-color: #3B4455;\n",
              "      fill: #D2E3FC;\n",
              "    }\n",
              "\n",
              "    [theme=dark] .colab-df-convert:hover {\n",
              "      background-color: #434B5C;\n",
              "      box-shadow: 0px 1px 3px 1px rgba(0, 0, 0, 0.15);\n",
              "      filter: drop-shadow(0px 1px 2px rgba(0, 0, 0, 0.3));\n",
              "      fill: #FFFFFF;\n",
              "    }\n",
              "  </style>\n",
              "\n",
              "    <script>\n",
              "      const buttonEl =\n",
              "        document.querySelector('#df-8586eef5-2203-4bd3-a463-f1b3735db892 button.colab-df-convert');\n",
              "      buttonEl.style.display =\n",
              "        google.colab.kernel.accessAllowed ? 'block' : 'none';\n",
              "\n",
              "      async function convertToInteractive(key) {\n",
              "        const element = document.querySelector('#df-8586eef5-2203-4bd3-a463-f1b3735db892');\n",
              "        const dataTable =\n",
              "          await google.colab.kernel.invokeFunction('convertToInteractive',\n",
              "                                                    [key], {});\n",
              "        if (!dataTable) return;\n",
              "\n",
              "        const docLinkHtml = 'Like what you see? Visit the ' +\n",
              "          '<a target=\"_blank\" href=https://colab.research.google.com/notebooks/data_table.ipynb>data table notebook</a>'\n",
              "          + ' to learn more about interactive tables.';\n",
              "        element.innerHTML = '';\n",
              "        dataTable['output_type'] = 'display_data';\n",
              "        await google.colab.output.renderOutput(dataTable, element);\n",
              "        const docLink = document.createElement('div');\n",
              "        docLink.innerHTML = docLinkHtml;\n",
              "        element.appendChild(docLink);\n",
              "      }\n",
              "    </script>\n",
              "  </div>\n",
              "\n",
              "\n",
              "<div id=\"df-1903ba6d-a2df-42d3-aab1-a617317c3a6b\">\n",
              "  <button class=\"colab-df-quickchart\" onclick=\"quickchart('df-1903ba6d-a2df-42d3-aab1-a617317c3a6b')\"\n",
              "            title=\"Suggest charts\"\n",
              "            style=\"display:none;\">\n",
              "\n",
              "<svg xmlns=\"http://www.w3.org/2000/svg\" height=\"24px\"viewBox=\"0 0 24 24\"\n",
              "     width=\"24px\">\n",
              "    <g>\n",
              "        <path d=\"M19 3H5c-1.1 0-2 .9-2 2v14c0 1.1.9 2 2 2h14c1.1 0 2-.9 2-2V5c0-1.1-.9-2-2-2zM9 17H7v-7h2v7zm4 0h-2V7h2v10zm4 0h-2v-4h2v4z\"/>\n",
              "    </g>\n",
              "</svg>\n",
              "  </button>\n",
              "\n",
              "<style>\n",
              "  .colab-df-quickchart {\n",
              "      --bg-color: #E8F0FE;\n",
              "      --fill-color: #1967D2;\n",
              "      --hover-bg-color: #E2EBFA;\n",
              "      --hover-fill-color: #174EA6;\n",
              "      --disabled-fill-color: #AAA;\n",
              "      --disabled-bg-color: #DDD;\n",
              "  }\n",
              "\n",
              "  [theme=dark] .colab-df-quickchart {\n",
              "      --bg-color: #3B4455;\n",
              "      --fill-color: #D2E3FC;\n",
              "      --hover-bg-color: #434B5C;\n",
              "      --hover-fill-color: #FFFFFF;\n",
              "      --disabled-bg-color: #3B4455;\n",
              "      --disabled-fill-color: #666;\n",
              "  }\n",
              "\n",
              "  .colab-df-quickchart {\n",
              "    background-color: var(--bg-color);\n",
              "    border: none;\n",
              "    border-radius: 50%;\n",
              "    cursor: pointer;\n",
              "    display: none;\n",
              "    fill: var(--fill-color);\n",
              "    height: 32px;\n",
              "    padding: 0;\n",
              "    width: 32px;\n",
              "  }\n",
              "\n",
              "  .colab-df-quickchart:hover {\n",
              "    background-color: var(--hover-bg-color);\n",
              "    box-shadow: 0 1px 2px rgba(60, 64, 67, 0.3), 0 1px 3px 1px rgba(60, 64, 67, 0.15);\n",
              "    fill: var(--button-hover-fill-color);\n",
              "  }\n",
              "\n",
              "  .colab-df-quickchart-complete:disabled,\n",
              "  .colab-df-quickchart-complete:disabled:hover {\n",
              "    background-color: var(--disabled-bg-color);\n",
              "    fill: var(--disabled-fill-color);\n",
              "    box-shadow: none;\n",
              "  }\n",
              "\n",
              "  .colab-df-spinner {\n",
              "    border: 2px solid var(--fill-color);\n",
              "    border-color: transparent;\n",
              "    border-bottom-color: var(--fill-color);\n",
              "    animation:\n",
              "      spin 1s steps(1) infinite;\n",
              "  }\n",
              "\n",
              "  @keyframes spin {\n",
              "    0% {\n",
              "      border-color: transparent;\n",
              "      border-bottom-color: var(--fill-color);\n",
              "      border-left-color: var(--fill-color);\n",
              "    }\n",
              "    20% {\n",
              "      border-color: transparent;\n",
              "      border-left-color: var(--fill-color);\n",
              "      border-top-color: var(--fill-color);\n",
              "    }\n",
              "    30% {\n",
              "      border-color: transparent;\n",
              "      border-left-color: var(--fill-color);\n",
              "      border-top-color: var(--fill-color);\n",
              "      border-right-color: var(--fill-color);\n",
              "    }\n",
              "    40% {\n",
              "      border-color: transparent;\n",
              "      border-right-color: var(--fill-color);\n",
              "      border-top-color: var(--fill-color);\n",
              "    }\n",
              "    60% {\n",
              "      border-color: transparent;\n",
              "      border-right-color: var(--fill-color);\n",
              "    }\n",
              "    80% {\n",
              "      border-color: transparent;\n",
              "      border-right-color: var(--fill-color);\n",
              "      border-bottom-color: var(--fill-color);\n",
              "    }\n",
              "    90% {\n",
              "      border-color: transparent;\n",
              "      border-bottom-color: var(--fill-color);\n",
              "    }\n",
              "  }\n",
              "</style>\n",
              "\n",
              "  <script>\n",
              "    async function quickchart(key) {\n",
              "      const quickchartButtonEl =\n",
              "        document.querySelector('#' + key + ' button');\n",
              "      quickchartButtonEl.disabled = true;  // To prevent multiple clicks.\n",
              "      quickchartButtonEl.classList.add('colab-df-spinner');\n",
              "      try {\n",
              "        const charts = await google.colab.kernel.invokeFunction(\n",
              "            'suggestCharts', [key], {});\n",
              "      } catch (error) {\n",
              "        console.error('Error during call to suggestCharts:', error);\n",
              "      }\n",
              "      quickchartButtonEl.classList.remove('colab-df-spinner');\n",
              "      quickchartButtonEl.classList.add('colab-df-quickchart-complete');\n",
              "    }\n",
              "    (() => {\n",
              "      let quickchartButtonEl =\n",
              "        document.querySelector('#df-1903ba6d-a2df-42d3-aab1-a617317c3a6b button');\n",
              "      quickchartButtonEl.style.display =\n",
              "        google.colab.kernel.accessAllowed ? 'block' : 'none';\n",
              "    })();\n",
              "  </script>\n",
              "</div>\n",
              "\n",
              "    </div>\n",
              "  </div>\n"
            ],
            "application/vnd.google.colaboratory.intrinsic+json": {
              "type": "dataframe",
              "variable_name": "df",
              "summary": "{\n  \"name\": \"df\",\n  \"rows\": 1259,\n  \"fields\": [\n    {\n      \"column\": \"data\",\n      \"properties\": {\n        \"dtype\": \"object\",\n        \"num_unique_values\": 1259,\n        \"samples\": [\n          \"4/23/2013\",\n          \"1/30/2017\",\n          \"3/6/2013\"\n        ],\n        \"semantic_type\": \"\",\n        \"description\": \"\"\n      }\n    },\n    {\n      \"column\": \"valor\",\n      \"properties\": {\n        \"dtype\": \"number\",\n        \"std\": 29.630323176472235,\n        \"min\": 55.424286,\n        \"max\": 175.110001,\n        \"num_unique_values\": 1187,\n        \"samples\": [\n          81.172859,\n          119.550003,\n          161.940002\n        ],\n        \"semantic_type\": \"\",\n        \"description\": \"\"\n      }\n    }\n  ]\n}"
            }
          },
          "metadata": {},
          "execution_count": 3
        }
      ],
      "source": [
        "df.head()"
      ]
    },
    {
      "cell_type": "code",
      "execution_count": 4,
      "metadata": {
        "colab": {
          "base_uri": "https://localhost:8080/"
        },
        "id": "kLofqBGQQjER",
        "outputId": "d64e6446-1b00-4619-f33f-bbeb558688c4"
      },
      "outputs": [
        {
          "output_type": "execute_result",
          "data": {
            "text/plain": [
              "array([[ 79.117142],\n",
              "       [ 78.26857 ],\n",
              "       [ 76.709999],\n",
              "       ...,\n",
              "       [170.100006],\n",
              "       [171.      ],\n",
              "       [170.520004]])"
            ]
          },
          "metadata": {},
          "execution_count": 4
        }
      ],
      "source": [
        "data = df['valor'].values.reshape(-1, 1)\n",
        "data"
      ]
    },
    {
      "cell_type": "code",
      "execution_count": 5,
      "metadata": {
        "id": "HcIU4DPzQjES"
      },
      "outputs": [],
      "source": [
        "# Normalizando os dados\n",
        "scaler = MinMaxScaler(feature_range=(0, 1))\n",
        "data = scaler.fit_transform(data)"
      ]
    },
    {
      "cell_type": "code",
      "execution_count": 6,
      "metadata": {
        "id": "tvZMsYFnQjES"
      },
      "outputs": [],
      "source": [
        "# Função para criar dados de treinamento e teste\n",
        "def create_dataset(data, time_step=5):\n",
        "    X, y = [], []\n",
        "    for i in range(len(data) - time_step):\n",
        "        X.append(data[i:(i + time_step), 0])\n",
        "        y.append(data[i + time_step, 0])\n",
        "    return np.array(X), np.array(y)\n",
        "\n",
        "# Criando dados de treinamento e teste\n",
        "time_step = 3  # usando uma janela de 60 dias para prever o próximo valor\n",
        "X, y = create_dataset(data, time_step)\n",
        "\n",
        "X = X.reshape((X.shape[0], X.shape[1], 1))"
      ]
    },
    {
      "cell_type": "code",
      "execution_count": 7,
      "metadata": {
        "colab": {
          "base_uri": "https://localhost:8080/"
        },
        "id": "jM2trTM_QjES",
        "outputId": "b5db3219-6eda-4bf4-ccef-b1260bb9ed7c"
      },
      "outputs": [
        {
          "output_type": "execute_result",
          "data": {
            "text/plain": [
              "array([[0.19086893],\n",
              "       [0.17784673],\n",
              "       [0.15997849]])"
            ]
          },
          "metadata": {},
          "execution_count": 7
        }
      ],
      "source": [
        "X[1]"
      ]
    },
    {
      "cell_type": "code",
      "execution_count": 8,
      "metadata": {
        "colab": {
          "base_uri": "https://localhost:8080/"
        },
        "id": "icws5jKaQjES",
        "outputId": "b4830ea6-e139-47bf-bcde-6d0bf02e3fd9"
      },
      "outputs": [
        {
          "output_type": "execute_result",
          "data": {
            "text/plain": [
              "0.15997849033194983"
            ]
          },
          "metadata": {},
          "execution_count": 8
        }
      ],
      "source": [
        "y[0]"
      ]
    },
    {
      "cell_type": "code",
      "execution_count": 9,
      "metadata": {
        "colab": {
          "base_uri": "https://localhost:8080/"
        },
        "id": "x3YHQbACQjET",
        "outputId": "c844b64c-0d71-43e5-aff0-81b36a7bd6f1"
      },
      "outputs": [
        {
          "output_type": "execute_result",
          "data": {
            "text/plain": [
              "array([0.15997849, 0.16858435, 0.16057534, ..., 0.95814041, 0.96566005,\n",
              "       0.96164958])"
            ]
          },
          "metadata": {},
          "execution_count": 9
        }
      ],
      "source": [
        "y"
      ]
    },
    {
      "cell_type": "code",
      "execution_count": 10,
      "metadata": {
        "colab": {
          "base_uri": "https://localhost:8080/"
        },
        "id": "cHxdjkLfQjET",
        "outputId": "95c7f338-0bc3-4232-991b-4370f7ea5469"
      },
      "outputs": [
        {
          "output_type": "execute_result",
          "data": {
            "text/plain": [
              "array([[[0.19795893],\n",
              "        [0.19086893],\n",
              "        [0.17784673]],\n",
              "\n",
              "       [[0.19086893],\n",
              "        [0.17784673],\n",
              "        [0.15997849]],\n",
              "\n",
              "       [[0.17784673],\n",
              "        [0.15997849],\n",
              "        [0.16858435]],\n",
              "\n",
              "       ...,\n",
              "\n",
              "       [[0.99214607],\n",
              "        [0.99640719],\n",
              "        [0.96398904]],\n",
              "\n",
              "       [[0.99640719],\n",
              "        [0.96398904],\n",
              "        [0.95814041]],\n",
              "\n",
              "       [[0.96398904],\n",
              "        [0.95814041],\n",
              "        [0.96566005]]])"
            ]
          },
          "metadata": {},
          "execution_count": 10
        }
      ],
      "source": [
        "X"
      ]
    },
    {
      "cell_type": "code",
      "execution_count": 11,
      "metadata": {
        "colab": {
          "base_uri": "https://localhost:8080/"
        },
        "id": "upbB-5k1QjET",
        "outputId": "24812a82-7244-4ee8-aeca-56120e8834ec"
      },
      "outputs": [
        {
          "output_type": "execute_result",
          "data": {
            "text/plain": [
              "(1256, 3, 1)"
            ]
          },
          "metadata": {},
          "execution_count": 11
        }
      ],
      "source": [
        "X.shape"
      ]
    },
    {
      "cell_type": "code",
      "execution_count": 12,
      "metadata": {
        "colab": {
          "base_uri": "https://localhost:8080/"
        },
        "id": "umfK9EF3QjET",
        "outputId": "301edb4b-b9d5-4345-c1c8-83213e3032b7"
      },
      "outputs": [
        {
          "output_type": "execute_result",
          "data": {
            "text/plain": [
              "(3, 1)"
            ]
          },
          "metadata": {},
          "execution_count": 12
        }
      ],
      "source": [
        "X[0].shape"
      ]
    },
    {
      "cell_type": "code",
      "execution_count": 13,
      "metadata": {
        "id": "vh0LYYloQjEU"
      },
      "outputs": [],
      "source": [
        "X_train = X[:int(len(X) * 0.8)]\n",
        "X_test = X[int(len(X) * 0.8):]\n",
        "\n",
        "y_train = y[:int(len(y) * 0.8)]\n",
        "y_test = y[int(len(y) * 0.8):]"
      ]
    },
    {
      "cell_type": "code",
      "execution_count": 14,
      "metadata": {
        "id": "BZPT0ny_QjEU"
      },
      "outputs": [],
      "source": [
        "# Definindo a arquitetura da RNN\n",
        "model = Sequential()\n",
        "model.add(SimpleRNN(units=50, activation='tanh', input_shape=(time_step, 1)))\n",
        "model.add(Dropout(0.2))\n",
        "model.add(Dense(units=1))\n",
        "\n",
        "# Compilando o modelo\n",
        "model.compile(optimizer='adam', loss='mean_squared_error')"
      ]
    },
    {
      "cell_type": "code",
      "execution_count": 15,
      "metadata": {
        "colab": {
          "base_uri": "https://localhost:8080/"
        },
        "id": "jPP09fXLQjEU",
        "outputId": "39a2c9b1-9cb2-4e27-deef-0a10336fc6dd"
      },
      "outputs": [
        {
          "output_type": "stream",
          "name": "stdout",
          "text": [
            "Epoch 1/100\n",
            "29/29 - 4s - loss: 0.0053 - val_loss: 0.0012 - 4s/epoch - 136ms/step\n",
            "Epoch 2/100\n",
            "29/29 - 0s - loss: 0.0023 - val_loss: 1.9923e-04 - 151ms/epoch - 5ms/step\n",
            "Epoch 3/100\n",
            "29/29 - 0s - loss: 0.0017 - val_loss: 3.4369e-04 - 161ms/epoch - 6ms/step\n",
            "Epoch 4/100\n",
            "29/29 - 0s - loss: 0.0016 - val_loss: 8.3246e-04 - 191ms/epoch - 7ms/step\n",
            "Epoch 5/100\n",
            "29/29 - 0s - loss: 0.0015 - val_loss: 6.8527e-04 - 284ms/epoch - 10ms/step\n",
            "Epoch 6/100\n",
            "29/29 - 0s - loss: 0.0014 - val_loss: 1.9386e-04 - 251ms/epoch - 9ms/step\n",
            "Epoch 7/100\n",
            "29/29 - 0s - loss: 0.0012 - val_loss: 2.5250e-04 - 165ms/epoch - 6ms/step\n",
            "Epoch 8/100\n",
            "29/29 - 0s - loss: 0.0012 - val_loss: 3.5353e-04 - 232ms/epoch - 8ms/step\n",
            "Epoch 9/100\n",
            "29/29 - 0s - loss: 0.0012 - val_loss: 1.7741e-04 - 294ms/epoch - 10ms/step\n",
            "Epoch 10/100\n",
            "29/29 - 0s - loss: 9.3257e-04 - val_loss: 1.9964e-04 - 299ms/epoch - 10ms/step\n",
            "Epoch 11/100\n",
            "29/29 - 0s - loss: 9.9784e-04 - val_loss: 2.3622e-04 - 405ms/epoch - 14ms/step\n",
            "Epoch 12/100\n",
            "29/29 - 0s - loss: 9.2668e-04 - val_loss: 1.9806e-04 - 359ms/epoch - 12ms/step\n",
            "Epoch 13/100\n",
            "29/29 - 0s - loss: 9.1171e-04 - val_loss: 2.9845e-04 - 369ms/epoch - 13ms/step\n",
            "Epoch 14/100\n",
            "29/29 - 0s - loss: 8.5600e-04 - val_loss: 1.5728e-04 - 345ms/epoch - 12ms/step\n",
            "Epoch 15/100\n",
            "29/29 - 0s - loss: 8.2526e-04 - val_loss: 1.5770e-04 - 268ms/epoch - 9ms/step\n",
            "Epoch 16/100\n",
            "29/29 - 0s - loss: 9.2437e-04 - val_loss: 1.5338e-04 - 288ms/epoch - 10ms/step\n",
            "Epoch 17/100\n",
            "29/29 - 0s - loss: 8.4074e-04 - val_loss: 4.0191e-04 - 239ms/epoch - 8ms/step\n",
            "Epoch 18/100\n",
            "29/29 - 0s - loss: 8.4052e-04 - val_loss: 2.1144e-04 - 228ms/epoch - 8ms/step\n",
            "Epoch 19/100\n",
            "29/29 - 0s - loss: 8.9352e-04 - val_loss: 4.4040e-04 - 295ms/epoch - 10ms/step\n",
            "Epoch 20/100\n",
            "29/29 - 0s - loss: 8.4739e-04 - val_loss: 6.3157e-04 - 265ms/epoch - 9ms/step\n",
            "Epoch 21/100\n",
            "29/29 - 0s - loss: 8.7653e-04 - val_loss: 1.5027e-04 - 339ms/epoch - 12ms/step\n",
            "Epoch 22/100\n",
            "29/29 - 0s - loss: 7.5918e-04 - val_loss: 1.4971e-04 - 183ms/epoch - 6ms/step\n",
            "Epoch 23/100\n",
            "29/29 - 0s - loss: 8.0568e-04 - val_loss: 1.4837e-04 - 190ms/epoch - 7ms/step\n",
            "Epoch 24/100\n",
            "29/29 - 0s - loss: 7.9498e-04 - val_loss: 1.4733e-04 - 187ms/epoch - 6ms/step\n",
            "Epoch 25/100\n",
            "29/29 - 0s - loss: 7.9852e-04 - val_loss: 1.9454e-04 - 180ms/epoch - 6ms/step\n",
            "Epoch 26/100\n",
            "29/29 - 0s - loss: 7.4339e-04 - val_loss: 2.1915e-04 - 193ms/epoch - 7ms/step\n",
            "Epoch 27/100\n",
            "29/29 - 0s - loss: 7.5308e-04 - val_loss: 1.4695e-04 - 208ms/epoch - 7ms/step\n",
            "Epoch 28/100\n",
            "29/29 - 0s - loss: 6.7666e-04 - val_loss: 2.1606e-04 - 178ms/epoch - 6ms/step\n",
            "Epoch 29/100\n",
            "29/29 - 0s - loss: 6.1987e-04 - val_loss: 1.6357e-04 - 222ms/epoch - 8ms/step\n",
            "Epoch 30/100\n",
            "29/29 - 0s - loss: 8.3106e-04 - val_loss: 2.9296e-04 - 210ms/epoch - 7ms/step\n",
            "Epoch 31/100\n",
            "29/29 - 0s - loss: 7.6483e-04 - val_loss: 4.2698e-04 - 179ms/epoch - 6ms/step\n",
            "Epoch 32/100\n",
            "29/29 - 0s - loss: 6.9421e-04 - val_loss: 2.8554e-04 - 209ms/epoch - 7ms/step\n",
            "Epoch 33/100\n",
            "29/29 - 0s - loss: 6.4000e-04 - val_loss: 2.0503e-04 - 296ms/epoch - 10ms/step\n",
            "Epoch 34/100\n",
            "29/29 - 0s - loss: 7.3566e-04 - val_loss: 2.5082e-04 - 207ms/epoch - 7ms/step\n",
            "Epoch 35/100\n",
            "29/29 - 0s - loss: 6.2986e-04 - val_loss: 1.4322e-04 - 153ms/epoch - 5ms/step\n",
            "Epoch 36/100\n",
            "29/29 - 0s - loss: 6.3423e-04 - val_loss: 1.4296e-04 - 166ms/epoch - 6ms/step\n",
            "Epoch 37/100\n",
            "29/29 - 0s - loss: 6.5469e-04 - val_loss: 1.7184e-04 - 179ms/epoch - 6ms/step\n",
            "Epoch 38/100\n",
            "29/29 - 0s - loss: 5.8103e-04 - val_loss: 1.4315e-04 - 145ms/epoch - 5ms/step\n",
            "Epoch 39/100\n",
            "29/29 - 0s - loss: 6.0842e-04 - val_loss: 1.5839e-04 - 228ms/epoch - 8ms/step\n",
            "Epoch 40/100\n",
            "29/29 - 0s - loss: 6.3644e-04 - val_loss: 2.0817e-04 - 173ms/epoch - 6ms/step\n",
            "Epoch 41/100\n",
            "29/29 - 0s - loss: 7.0759e-04 - val_loss: 3.2661e-04 - 201ms/epoch - 7ms/step\n",
            "Epoch 42/100\n",
            "29/29 - 0s - loss: 6.7688e-04 - val_loss: 1.5144e-04 - 307ms/epoch - 11ms/step\n",
            "Epoch 43/100\n",
            "29/29 - 0s - loss: 6.3080e-04 - val_loss: 1.9771e-04 - 287ms/epoch - 10ms/step\n",
            "Epoch 44/100\n",
            "29/29 - 0s - loss: 7.0973e-04 - val_loss: 1.4300e-04 - 207ms/epoch - 7ms/step\n",
            "Epoch 45/100\n",
            "29/29 - 0s - loss: 5.2190e-04 - val_loss: 3.0871e-04 - 256ms/epoch - 9ms/step\n",
            "Epoch 46/100\n",
            "29/29 - 0s - loss: 6.1445e-04 - val_loss: 2.3854e-04 - 220ms/epoch - 8ms/step\n",
            "Epoch 47/100\n",
            "29/29 - 0s - loss: 7.7309e-04 - val_loss: 1.5223e-04 - 94ms/epoch - 3ms/step\n",
            "Epoch 48/100\n",
            "29/29 - 0s - loss: 5.8892e-04 - val_loss: 1.8346e-04 - 90ms/epoch - 3ms/step\n",
            "Epoch 49/100\n",
            "29/29 - 0s - loss: 6.0861e-04 - val_loss: 1.9088e-04 - 89ms/epoch - 3ms/step\n",
            "Epoch 50/100\n",
            "29/29 - 0s - loss: 5.8693e-04 - val_loss: 2.7214e-04 - 112ms/epoch - 4ms/step\n",
            "Epoch 51/100\n",
            "29/29 - 0s - loss: 5.8093e-04 - val_loss: 1.4141e-04 - 101ms/epoch - 3ms/step\n",
            "Epoch 52/100\n",
            "29/29 - 0s - loss: 6.1168e-04 - val_loss: 1.9062e-04 - 108ms/epoch - 4ms/step\n",
            "Epoch 53/100\n",
            "29/29 - 0s - loss: 5.9650e-04 - val_loss: 1.4194e-04 - 100ms/epoch - 3ms/step\n",
            "Epoch 54/100\n",
            "29/29 - 0s - loss: 5.5915e-04 - val_loss: 4.7546e-04 - 106ms/epoch - 4ms/step\n",
            "Epoch 55/100\n",
            "29/29 - 0s - loss: 5.4113e-04 - val_loss: 1.4966e-04 - 90ms/epoch - 3ms/step\n",
            "Epoch 56/100\n",
            "29/29 - 0s - loss: 5.7313e-04 - val_loss: 2.1280e-04 - 88ms/epoch - 3ms/step\n",
            "Epoch 57/100\n",
            "29/29 - 0s - loss: 5.4860e-04 - val_loss: 2.0702e-04 - 91ms/epoch - 3ms/step\n",
            "Epoch 58/100\n",
            "29/29 - 0s - loss: 5.4094e-04 - val_loss: 1.7630e-04 - 101ms/epoch - 3ms/step\n",
            "Epoch 59/100\n",
            "29/29 - 0s - loss: 5.5374e-04 - val_loss: 1.3844e-04 - 108ms/epoch - 4ms/step\n",
            "Epoch 60/100\n",
            "29/29 - 0s - loss: 5.9102e-04 - val_loss: 1.7307e-04 - 104ms/epoch - 4ms/step\n",
            "Epoch 61/100\n",
            "29/29 - 0s - loss: 5.8238e-04 - val_loss: 1.3888e-04 - 94ms/epoch - 3ms/step\n",
            "Epoch 62/100\n",
            "29/29 - 0s - loss: 5.6707e-04 - val_loss: 1.6448e-04 - 106ms/epoch - 4ms/step\n",
            "Epoch 63/100\n",
            "29/29 - 0s - loss: 5.1661e-04 - val_loss: 1.3841e-04 - 87ms/epoch - 3ms/step\n",
            "Epoch 64/100\n",
            "29/29 - 0s - loss: 5.0980e-04 - val_loss: 2.0775e-04 - 108ms/epoch - 4ms/step\n",
            "Epoch 65/100\n",
            "29/29 - 0s - loss: 5.6851e-04 - val_loss: 1.8204e-04 - 91ms/epoch - 3ms/step\n",
            "Epoch 66/100\n",
            "29/29 - 0s - loss: 5.6582e-04 - val_loss: 1.8390e-04 - 101ms/epoch - 3ms/step\n",
            "Epoch 67/100\n",
            "29/29 - 0s - loss: 5.8957e-04 - val_loss: 2.9194e-04 - 92ms/epoch - 3ms/step\n",
            "Epoch 68/100\n",
            "29/29 - 0s - loss: 5.5396e-04 - val_loss: 1.4265e-04 - 99ms/epoch - 3ms/step\n",
            "Epoch 69/100\n",
            "29/29 - 0s - loss: 4.8031e-04 - val_loss: 1.3944e-04 - 110ms/epoch - 4ms/step\n",
            "Epoch 70/100\n",
            "29/29 - 0s - loss: 5.0277e-04 - val_loss: 3.1089e-04 - 103ms/epoch - 4ms/step\n",
            "Epoch 71/100\n",
            "29/29 - 0s - loss: 4.8629e-04 - val_loss: 1.6472e-04 - 101ms/epoch - 3ms/step\n",
            "Epoch 72/100\n",
            "29/29 - 0s - loss: 5.0487e-04 - val_loss: 6.2633e-04 - 91ms/epoch - 3ms/step\n",
            "Epoch 73/100\n",
            "29/29 - 0s - loss: 5.4358e-04 - val_loss: 2.0767e-04 - 99ms/epoch - 3ms/step\n",
            "Epoch 74/100\n",
            "29/29 - 0s - loss: 5.8429e-04 - val_loss: 1.7030e-04 - 97ms/epoch - 3ms/step\n",
            "Epoch 75/100\n",
            "29/29 - 0s - loss: 4.7982e-04 - val_loss: 1.4388e-04 - 86ms/epoch - 3ms/step\n",
            "Epoch 76/100\n",
            "29/29 - 0s - loss: 4.7242e-04 - val_loss: 1.4235e-04 - 87ms/epoch - 3ms/step\n",
            "Epoch 77/100\n",
            "29/29 - 0s - loss: 4.7261e-04 - val_loss: 1.3540e-04 - 104ms/epoch - 4ms/step\n",
            "Epoch 78/100\n",
            "29/29 - 0s - loss: 5.1311e-04 - val_loss: 1.3957e-04 - 85ms/epoch - 3ms/step\n",
            "Epoch 79/100\n",
            "29/29 - 0s - loss: 4.7620e-04 - val_loss: 4.9688e-04 - 118ms/epoch - 4ms/step\n",
            "Epoch 80/100\n",
            "29/29 - 0s - loss: 4.9878e-04 - val_loss: 1.4451e-04 - 97ms/epoch - 3ms/step\n",
            "Epoch 81/100\n",
            "29/29 - 0s - loss: 4.5387e-04 - val_loss: 1.5131e-04 - 105ms/epoch - 4ms/step\n",
            "Epoch 82/100\n",
            "29/29 - 0s - loss: 4.7639e-04 - val_loss: 1.3702e-04 - 89ms/epoch - 3ms/step\n",
            "Epoch 83/100\n",
            "29/29 - 0s - loss: 5.0751e-04 - val_loss: 1.4181e-04 - 106ms/epoch - 4ms/step\n",
            "Epoch 84/100\n",
            "29/29 - 0s - loss: 5.2058e-04 - val_loss: 1.7827e-04 - 106ms/epoch - 4ms/step\n",
            "Epoch 85/100\n",
            "29/29 - 0s - loss: 4.6683e-04 - val_loss: 1.4584e-04 - 99ms/epoch - 3ms/step\n",
            "Epoch 86/100\n",
            "29/29 - 0s - loss: 4.3799e-04 - val_loss: 1.3814e-04 - 93ms/epoch - 3ms/step\n",
            "Epoch 87/100\n",
            "29/29 - 0s - loss: 4.7283e-04 - val_loss: 1.4751e-04 - 99ms/epoch - 3ms/step\n",
            "Epoch 88/100\n",
            "29/29 - 0s - loss: 4.4395e-04 - val_loss: 1.4579e-04 - 146ms/epoch - 5ms/step\n",
            "Epoch 89/100\n",
            "29/29 - 0s - loss: 4.6365e-04 - val_loss: 1.4266e-04 - 160ms/epoch - 6ms/step\n",
            "Epoch 90/100\n",
            "29/29 - 0s - loss: 4.1700e-04 - val_loss: 1.4845e-04 - 157ms/epoch - 5ms/step\n",
            "Epoch 91/100\n",
            "29/29 - 0s - loss: 4.8908e-04 - val_loss: 1.6557e-04 - 147ms/epoch - 5ms/step\n",
            "Epoch 92/100\n",
            "29/29 - 0s - loss: 4.5039e-04 - val_loss: 2.1446e-04 - 130ms/epoch - 4ms/step\n",
            "Epoch 93/100\n",
            "29/29 - 0s - loss: 4.6820e-04 - val_loss: 2.5487e-04 - 140ms/epoch - 5ms/step\n",
            "Epoch 94/100\n",
            "29/29 - 0s - loss: 4.8491e-04 - val_loss: 1.9857e-04 - 138ms/epoch - 5ms/step\n",
            "Epoch 95/100\n",
            "29/29 - 0s - loss: 4.7986e-04 - val_loss: 1.3655e-04 - 151ms/epoch - 5ms/step\n",
            "Epoch 96/100\n",
            "29/29 - 0s - loss: 4.5266e-04 - val_loss: 2.1262e-04 - 132ms/epoch - 5ms/step\n",
            "Epoch 97/100\n",
            "29/29 - 0s - loss: 5.5358e-04 - val_loss: 1.3935e-04 - 137ms/epoch - 5ms/step\n",
            "Epoch 98/100\n",
            "29/29 - 0s - loss: 4.4099e-04 - val_loss: 4.3281e-04 - 150ms/epoch - 5ms/step\n",
            "Epoch 99/100\n",
            "29/29 - 0s - loss: 4.8745e-04 - val_loss: 1.3906e-04 - 153ms/epoch - 5ms/step\n",
            "Epoch 100/100\n",
            "29/29 - 0s - loss: 4.7383e-04 - val_loss: 2.8009e-04 - 160ms/epoch - 6ms/step\n"
          ]
        }
      ],
      "source": [
        "# Treinando a RNN\n",
        "history = model.fit(X_train, y_train, epochs=100, batch_size=32, validation_split=0.1, verbose=2)"
      ]
    },
    {
      "cell_type": "code",
      "execution_count": 16,
      "metadata": {
        "colab": {
          "base_uri": "https://localhost:8080/",
          "height": 567
        },
        "id": "IHX57RjMQjEV",
        "outputId": "9720ee43-14b5-4f1e-ae14-87e98055a0e1"
      },
      "outputs": [
        {
          "output_type": "display_data",
          "data": {
            "text/plain": [
              "<Figure size 1200x600 with 1 Axes>"
            ],
            "image/png": "[encoded data removed]"
          },
          "metadata": {}
        }
      ],
      "source": [
        "# Importando as bibliotecas necessárias\n",
        "import matplotlib.pyplot as plt\n",
        "\n",
        "# Supondo que você já tenha o objeto 'history' do treinamento do modelo\n",
        "\n",
        "# Plotando o gráfico do histórico de treinamento\n",
        "plt.figure(figsize=(12, 6))\n",
        "\n",
        "# Plotando a perda de treinamento\n",
        "plt.plot(history.history['loss'], label='Perda de Treinamento')\n",
        "\n",
        "# Plotando a perda de validação\n",
        "plt.plot(history.history['val_loss'], label='Perda de Validação')\n",
        "\n",
        "# Adicionando título e legendas\n",
        "plt.title('Histórico de Treinamento e Validação')\n",
        "plt.xlabel('Épocas')\n",
        "plt.ylabel('Perda')\n",
        "plt.legend()\n",
        "\n",
        "# Exibindo o gráfico\n",
        "plt.show()"
      ]
    },
    {
      "cell_type": "code",
      "execution_count": 17,
      "metadata": {
        "colab": {
          "base_uri": "https://localhost:8080/"
        },
        "id": "nmgXJqKJQjEV",
        "outputId": "b7dead93-844c-4409-d811-f3f62811f41a"
      },
      "outputs": [
        {
          "output_type": "stream",
          "name": "stdout",
          "text": [
            "32/32 [==============================] - 0s 2ms/step\n",
            "8/8 [==============================] - 0s 2ms/step\n"
          ]
        }
      ],
      "source": [
        "# Fazendo previsões\n",
        "train_predict = model.predict(X_train)\n",
        "test_predict = model.predict(X_test)"
      ]
    },
    {
      "cell_type": "code",
      "execution_count": 18,
      "metadata": {
        "id": "Muo6MxtAQjEV"
      },
      "outputs": [],
      "source": [
        "# Invertendo a normalização para obter os valores reais\n",
        "train_predict = scaler.inverse_transform(train_predict)\n",
        "test_predict = scaler.inverse_transform(test_predict)\n",
        "y_train = scaler.inverse_transform(y_train.reshape(-1, 1))\n",
        "y_test = scaler.inverse_transform(y_test.reshape(-1, 1))"
      ]
    },
    {
      "cell_type": "code",
      "execution_count": 19,
      "metadata": {
        "colab": {
          "base_uri": "https://localhost:8080/",
          "height": 543
        },
        "id": "fDHoPDBDQjEV",
        "outputId": "89e0d0e5-5571-43cd-c4db-ef0958b0f186"
      },
      "outputs": [
        {
          "output_type": "display_data",
          "data": {
            "text/plain": [
              "<Figure size 1200x600 with 1 Axes>"
            ],
            "image/png": "[encoded data removed]"
          },
          "metadata": {}
        }
      ],
      "source": [
        "# Plotando os resultados\n",
        "plt.figure(figsize=(12, 6))\n",
        "plt.plot(df['valor'], label='Dados reais')\n",
        "train_range = range(time_step, time_step + len(train_predict))\n",
        "test_range = range(time_step + len(train_predict), time_step + len(train_predict) + len(test_predict))\n",
        "plt.plot(train_range, train_predict, label='Previsões de treino')\n",
        "plt.plot(test_range, test_predict, label='Previsões de teste')\n",
        "plt.xlabel('Dias')\n",
        "plt.ylabel('Preço de Fechamento Normalizado')\n",
        "plt.legend()\n",
        "plt.show()"
      ]
    },
    {
      "cell_type": "code",
      "execution_count": 20,
      "metadata": {
        "id": "IZBcuDXeQjEV"
      },
      "outputs": [],
      "source": [
        "from sklearn.metrics import mean_absolute_error, mean_squared_error, r2_score\n",
        "\n",
        "def regression_metrics(y_test, test_predict):\n",
        "    # Calculando MAE\n",
        "    mae = mean_absolute_error(y_test, test_predict)\n",
        "\n",
        "    # Calculando MSE\n",
        "    mse = mean_squared_error(y_test, test_predict)\n",
        "\n",
        "    # Calculando RMSE\n",
        "    rmse = np.sqrt(mse)\n",
        "\n",
        "    # Calculando R²\n",
        "    r2 = r2_score(y_test, test_predict)\n",
        "\n",
        "    # Exibindo os resultados\n",
        "    print(f'Mean Absolute Error (MAE): {mae}')\n",
        "    print(f'Mean Squared Error (MSE): {mse}')\n",
        "    print(f'Root Mean Squared Error (RMSE): {rmse}')\n",
        "    print(f'Coefficient of Determination (R²): {r2}')"
      ]
    },
    {
      "cell_type": "code",
      "execution_count": 21,
      "metadata": {
        "colab": {
          "base_uri": "https://localhost:8080/"
        },
        "id": "1byXxN2WQjEW",
        "outputId": "85574e57-f2bb-49f3-907f-8be441d59687"
      },
      "outputs": [
        {
          "output_type": "stream",
          "name": "stdout",
          "text": [
            "Mean Absolute Error (MAE): 3.365809929852198\n",
            "Mean Squared Error (MSE): 14.272426905012358\n",
            "Root Mean Squared Error (RMSE): 3.777886565927087\n",
            "Coefficient of Determination (R²): 0.935183503372247\n"
          ]
        }
      ],
      "source": [
        "regression_metrics(y_test, test_predict)"
      ]
    },
    {
      "cell_type": "code",
      "execution_count": 22,
      "metadata": {
        "colab": {
          "base_uri": "https://localhost:8080/"
        },
        "id": "jKagJG2-QjEW",
        "outputId": "44b87871-5401-4d2f-da8a-47579ffd92b1"
      },
      "outputs": [
        {
          "output_type": "stream",
          "name": "stdout",
          "text": [
            "Mean Absolute Error (MAE): 1.5059949125531562\n",
            "Mean Squared Error (MSE): 4.079894076985371\n",
            "Root Mean Squared Error (RMSE): 2.0198747676490667\n",
            "Coefficient of Determination (R²): 0.9910113595726049\n"
          ]
        }
      ],
      "source": [
        "regression_metrics(y_train, train_predict)"
      ]
    },
    {
      "cell_type": "markdown",
      "metadata": {
        "id": "Rz3KyMmaQjEW"
      },
      "source": [
        "### Explicação das Métricas de Regressão\n",
        "\n",
        "#### 1. Erro Absoluto Médio (MAE)\n",
        "- **Definição**: O Erro Absoluto Médio (MAE) mede a média dos erros absolutos entre as previsões e os valores reais. Ele é a média da diferença absoluta entre as previsões e os valores reais.\n",
        "- **Fórmula**: \\(\\text{MAE} = \\frac{1}{n} \\sum_{i=1}^{n} |y_i - \\hat{y}_i|\\)\n",
        "- **Interpretação**:\n",
        "  - **Bom Valor**: Um valor de MAE próximo de 0 indica que as previsões estão muito próximas dos valores reais.\n",
        "  - **Valor Ruim**: Um valor de MAE alto indica que há uma grande diferença entre as previsões e os valores reais.\n",
        "\n",
        "#### 2. Erro Quadrático Médio (MSE)\n",
        "- **Definição**: O Erro Quadrático Médio (MSE) mede a média dos quadrados dos erros entre as previsões e os valores reais. Ele penaliza mais os grandes erros do que os pequenos erros.\n",
        "- **Fórmula**: \\(\\text{MSE} = \\frac{1}{n} \\sum_{i=1}^{n} (y_i - \\hat{y}_i)^2\\)\n",
        "- **Interpretação**:\n",
        "  - **Bom Valor**: Um valor de MSE próximo de 0 indica que as previsões estão muito próximas dos valores reais.\n",
        "  - **Valor Ruim**: Um valor de MSE alto indica que há uma grande diferença entre as previsões e os valores reais.\n",
        "\n",
        "#### 3. Raiz do Erro Quadrático Médio (RMSE)\n",
        "- **Definição**: A Raiz do Erro Quadrático Médio (RMSE) é a raiz quadrada do MSE. Ele fornece uma medida do erro em unidades comparáveis aos valores reais.\n",
        "- **Fórmula**: \\(\\text{RMSE} = \\sqrt{\\text{MSE}}\\)\n",
        "- **Interpretação**:\n",
        "  - **Bom Valor**: Um valor de RMSE próximo de 0 indica que as previsões estão muito próximas dos valores reais.\n",
        "  - **Valor Ruim**: Um valor de RMSE alto indica que há uma grande diferença entre as previsões e os valores reais.\n",
        "\n",
        "#### 4. Coeficiente de Determinação (R²)\n",
        "- **Definição**: O Coeficiente de Determinação (R²) mede a proporção da variância dos valores reais que é explicada pelas previsões do modelo. Ele varia de 0 a 1, onde 1 indica um modelo perfeito.\n",
        "- **Fórmula**: \\(R^2 = 1 - \\frac{\\sum_{i=1}^{n} (y_i - \\hat{y}_i)^2}{\\sum_{i=1}^{n} (y_i - \\bar{y})^2}\\)\n",
        "- **Interpretação**:\n",
        "  - **Bom Valor**: Um valor de R² próximo de 1 indica que as previsões explicam bem a variância dos valores reais.\n",
        "  - **Valor Ruim**: Um valor de R² próximo de 0 indica que as previsões não explicam bem a variância dos valores reais.\n",
        "\n",
        "### Considerações Gerais:\n",
        "- Para todas as métricas (MAE, MSE, RMSE), valores mais baixos são desejáveis, indicando previsões mais precisas.\n",
        "- Para o coeficiente de determinação (R²), valores mais próximos de 1 são desejáveis, indicando que o modelo explica bem a variância dos dados.\n",
        "\n",
        "Um bom modelo de regressão deve ter valores baixos para MAE, MSE e RMSE, e um valor alto para R².\n"
      ]
    },
    {
      "cell_type": "markdown",
      "metadata": {
        "id": "Xp7LZcQ9QjEW"
      },
      "source": [
        "### 2. Conceitos Básicos de RNNs\n",
        "\n",
        "#### Definição e Características das RNNs\n",
        "Redes Neurais Recorrentes (RNNs) são um tipo de rede neural projetada para processar sequências de dados, como séries temporais e texto. Diferente das redes neurais tradicionais (feedforward), as RNNs possuem conexões recorrentes que permitem a propagação de informações ao longo da sequência.\n",
        "\n",
        "- **Diferenciação entre RNNs e Redes Neurais Tradicionais (Feedforward)**\n",
        "  - **Redes Neurais Tradicionais**: Processam dados de forma independente, sem considerar a ordem ou dependências temporais.\n",
        "  - **RNNs**: Mantêm um estado interno (memória) que é atualizado a cada passo temporal, permitindo que informações de estados anteriores influenciem a saída atual. Isso é crucial para capturar dependências temporais em dados sequenciais.\n",
        "\n",
        "- **Capacidade das RNNs de Manter Informações sobre Estados Anteriores através de Laços de Realimentação**\n",
        "  - As RNNs têm laços de realimentação que conectam os estados ocultos de diferentes passos temporais.\n",
        "  - Cada estado oculto (\\(h_t\\)) é influenciado pela entrada atual (\\(x_t\\)) e pelo estado oculto do passo anterior (\\(h_{t-1}\\)), permitindo que a rede capture e utilize dependências temporais.\n",
        "\n",
        "#### Equações Matemáticas Fundamentais\n",
        "\n",
        "As equações matemáticas fundamentais das RNNs descrevem como os estados ocultos e as saídas são atualizados a cada passo temporal.\n",
        "\n",
        "- **Equação de Ativação das RNNs**\n",
        "  \\[\n",
        "  h_t = \\sigma(W_{xh}x_t + W_{hh}h_{t-1} + b_h)\n",
        "  \\]\n",
        "  Onde:\n",
        "  - \\(h_t\\) é o estado oculto no tempo \\(t\\).\n",
        "  - \\(x_t\\) é a entrada no tempo \\(t\\).\n",
        "  - \\(W_{xh}\\) é a matriz de pesos entre a entrada e o estado oculto.\n",
        "  - \\(W_{hh}\\) é a matriz de pesos entre o estado oculto anterior e o estado oculto atual.\n",
        "  - \\(b_h\\) é o vetor de bias para o estado oculto.\n",
        "  - \\(\\sigma\\) é a função de ativação, geralmente uma função não linear como tanh ou ReLU.\n",
        "\n",
        "- **Equação de Saída das RNNs**\n",
        "  \\[\n",
        "  y_t = \\sigma(W_{hy}h_t + b_y)\n",
        "  \\]\n",
        "  Onde:\n",
        "  - \\(y_t\\) é a saída no tempo \\(t\\).\n",
        "  - \\(h_t\\) é o estado oculto no tempo \\(t\\).\n",
        "  - \\(W_{hy}\\) é a matriz de pesos entre o estado oculto e a saída.\n",
        "  - \\(b_y\\) é o vetor de bias para a saída.\n",
        "  - \\(\\sigma\\) é a função de ativação aplicada à saída.\n",
        "\n",
        "Essas equações mostram como as RNNs processam sequências de dados, atualizando os estados ocultos a cada passo temporal e gerando saídas que dependem tanto das entradas atuais quanto dos estados ocultos anteriores. Essa capacidade de capturar dependências temporais faz das RNNs uma ferramenta poderosa para tarefas que envolvem dados sequenciais.\n"
      ]
    },
    {
      "cell_type": "code",
      "execution_count": 23,
      "metadata": {
        "id": "cEASBROjQjEX"
      },
      "outputs": [],
      "source": [
        "import numpy as np\n",
        "import pandas as pd\n",
        "from sklearn.preprocessing import MinMaxScaler\n",
        "from sklearn.model_selection import train_test_split"
      ]
    },
    {
      "cell_type": "code",
      "execution_count": 24,
      "metadata": {
        "id": "hmH5zCp0QjEX"
      },
      "outputs": [],
      "source": [
        "# Carregando os dados do arquivo CSV\n",
        "df = pd.read_csv('acao_google.csv')"
      ]
    },
    {
      "cell_type": "code",
      "execution_count": 25,
      "metadata": {
        "id": "xEOltFP9QjEX"
      },
      "outputs": [],
      "source": [
        "df = df[['Date', 'Open', 'High', 'Low', 'Volume', 'Close']]"
      ]
    },
    {
      "cell_type": "code",
      "execution_count": 26,
      "metadata": {
        "colab": {
          "base_uri": "https://localhost:8080/"
        },
        "id": "pVQoyy3MQjEX",
        "outputId": "393fb9c9-fb75-44bc-b43d-654b49a00f79"
      },
      "outputs": [
        {
          "output_type": "stream",
          "name": "stdout",
          "text": [
            "<class 'pandas.core.frame.DataFrame'>\n",
            "RangeIndex: 1258 entries, 0 to 1257\n",
            "Data columns (total 6 columns):\n",
            " #   Column  Non-Null Count  Dtype  \n",
            "---  ------  --------------  -----  \n",
            " 0   Date    1258 non-null   object \n",
            " 1   Open    1258 non-null   float64\n",
            " 2   High    1258 non-null   float64\n",
            " 3   Low     1258 non-null   float64\n",
            " 4   Volume  1258 non-null   object \n",
            " 5   Close   1258 non-null   object \n",
            "dtypes: float64(3), object(3)\n",
            "memory usage: 59.1+ KB\n"
          ]
        }
      ],
      "source": [
        "df.info()"
      ]
    },
    {
      "cell_type": "code",
      "execution_count": 27,
      "metadata": {
        "colab": {
          "base_uri": "https://localhost:8080/",
          "height": 206
        },
        "id": "r3peceKpQjEY",
        "outputId": "6af8d014-c59d-4f9e-ed53-7ed1320d4f8b"
      },
      "outputs": [
        {
          "output_type": "execute_result",
          "data": {
            "text/plain": [
              "       Date    Open    High     Low      Volume   Close\n",
              "0  1/3/2012  325.25  332.83  324.97   7,380,500  663.59\n",
              "1  1/4/2012  331.27  333.87  329.08   5,749,400  666.45\n",
              "2  1/5/2012  329.83  330.75  326.89   6,590,300  657.21\n",
              "3  1/6/2012  328.34  328.77  323.68   5,405,900  648.24\n",
              "4  1/9/2012  322.04  322.29  309.46  11,688,800  620.76"
            ],
            "text/html": [
              "\n",
              "  <div id=\"df-de3eb78f-6837-4d00-9802-9e5663d8b95f\" class=\"colab-df-container\">\n",
              "    <div>\n",
              "<style scoped>\n",
              "    .dataframe tbody tr th:only-of-type {\n",
              "        vertical-align: middle;\n",
              "    }\n",
              "\n",
              "    .dataframe tbody tr th {\n",
              "        vertical-align: top;\n",
              "    }\n",
              "\n",
              "    .dataframe thead th {\n",
              "        text-align: right;\n",
              "    }\n",
              "</style>\n",
              "<table border=\"1\" class=\"dataframe\">\n",
              "  <thead>\n",
              "    <tr style=\"text-align: right;\">\n",
              "      <th></th>\n",
              "      <th>Date</th>\n",
              "      <th>Open</th>\n",
              "      <th>High</th>\n",
              "      <th>Low</th>\n",
              "      <th>Volume</th>\n",
              "      <th>Close</th>\n",
              "    </tr>\n",
              "  </thead>\n",
              "  <tbody>\n",
              "    <tr>\n",
              "      <th>0</th>\n",
              "      <td>1/3/2012</td>\n",
              "      <td>325.25</td>\n",
              "      <td>332.83</td>\n",
              "      <td>324.97</td>\n",
              "      <td>7,380,500</td>\n",
              "      <td>663.59</td>\n",
              "    </tr>\n",
              "    <tr>\n",
              "      <th>1</th>\n",
              "      <td>1/4/2012</td>\n",
              "      <td>331.27</td>\n",
              "      <td>333.87</td>\n",
              "      <td>329.08</td>\n",
              "      <td>5,749,400</td>\n",
              "      <td>666.45</td>\n",
              "    </tr>\n",
              "    <tr>\n",
              "      <th>2</th>\n",
              "      <td>1/5/2012</td>\n",
              "      <td>329.83</td>\n",
              "      <td>330.75</td>\n",
              "      <td>326.89</td>\n",
              "      <td>6,590,300</td>\n",
              "      <td>657.21</td>\n",
              "    </tr>\n",
              "    <tr>\n",
              "      <th>3</th>\n",
              "      <td>1/6/2012</td>\n",
              "      <td>328.34</td>\n",
              "      <td>328.77</td>\n",
              "      <td>323.68</td>\n",
              "      <td>5,405,900</td>\n",
              "      <td>648.24</td>\n",
              "    </tr>\n",
              "    <tr>\n",
              "      <th>4</th>\n",
              "      <td>1/9/2012</td>\n",
              "      <td>322.04</td>\n",
              "      <td>322.29</td>\n",
              "      <td>309.46</td>\n",
              "      <td>11,688,800</td>\n",
              "      <td>620.76</td>\n",
              "    </tr>\n",
              "  </tbody>\n",
              "</table>\n",
              "</div>\n",
              "    <div class=\"colab-df-buttons\">\n",
              "\n",
              "  <div class=\"colab-df-container\">\n",
              "    <button class=\"colab-df-convert\" onclick=\"convertToInteractive('df-de3eb78f-6837-4d00-9802-9e5663d8b95f')\"\n",
              "            title=\"Convert this dataframe to an interactive table.\"\n",
              "            style=\"display:none;\">\n",
              "\n",
              "  <svg xmlns=\"http://www.w3.org/2000/svg\" height=\"24px\" viewBox=\"0 -960 960 960\">\n",
              "    <path d=\"M120-120v-720h720v720H120Zm60-500h600v-160H180v160Zm220 220h160v-160H400v160Zm0 220h160v-160H400v160ZM180-400h160v-160H180v160Zm440 0h160v-160H620v160ZM180-180h160v-160H180v160Zm440 0h160v-160H620v160Z\"/>\n",
              "  </svg>\n",
              "    </button>\n",
              "\n",
              "  <style>\n",
              "    .colab-df-container {\n",
              "      display:flex;\n",
              "      gap: 12px;\n",
              "    }\n",
              "\n",
              "    .colab-df-convert {\n",
              "      background-color: #E8F0FE;\n",
              "      border: none;\n",
              "      border-radius: 50%;\n",
              "      cursor: pointer;\n",
              "      display: none;\n",
              "      fill: #1967D2;\n",
              "      height: 32px;\n",
              "      padding: 0 0 0 0;\n",
              "      width: 32px;\n",
              "    }\n",
              "\n",
              "    .colab-df-convert:hover {\n",
              "      background-color: #E2EBFA;\n",
              "      box-shadow: 0px 1px 2px rgba(60, 64, 67, 0.3), 0px 1px 3px 1px rgba(60, 64, 67, 0.15);\n",
              "      fill: #174EA6;\n",
              "    }\n",
              "\n",
              "    .colab-df-buttons div {\n",
              "      margin-bottom: 4px;\n",
              "    }\n",
              "\n",
              "    [theme=dark] .colab-df-convert {\n",
              "      background-color: #3B4455;\n",
              "      fill: #D2E3FC;\n",
              "    }\n",
              "\n",
              "    [theme=dark] .colab-df-convert:hover {\n",
              "      background-color: #434B5C;\n",
              "      box-shadow: 0px 1px 3px 1px rgba(0, 0, 0, 0.15);\n",
              "      filter: drop-shadow(0px 1px 2px rgba(0, 0, 0, 0.3));\n",
              "      fill: #FFFFFF;\n",
              "    }\n",
              "  </style>\n",
              "\n",
              "    <script>\n",
              "      const buttonEl =\n",
              "        document.querySelector('#df-de3eb78f-6837-4d00-9802-9e5663d8b95f button.colab-df-convert');\n",
              "      buttonEl.style.display =\n",
              "        google.colab.kernel.accessAllowed ? 'block' : 'none';\n",
              "\n",
              "      async function convertToInteractive(key) {\n",
              "        const element = document.querySelector('#df-de3eb78f-6837-4d00-9802-9e5663d8b95f');\n",
              "        const dataTable =\n",
              "          await google.colab.kernel.invokeFunction('convertToInteractive',\n",
              "                                                    [key], {});\n",
              "        if (!dataTable) return;\n",
              "\n",
              "        const docLinkHtml = 'Like what you see? Visit the ' +\n",
              "          '<a target=\"_blank\" href=https://colab.research.google.com/notebooks/data_table.ipynb>data table notebook</a>'\n",
              "          + ' to learn more about interactive tables.';\n",
              "        element.innerHTML = '';\n",
              "        dataTable['output_type'] = 'display_data';\n",
              "        await google.colab.output.renderOutput(dataTable, element);\n",
              "        const docLink = document.createElement('div');\n",
              "        docLink.innerHTML = docLinkHtml;\n",
              "        element.appendChild(docLink);\n",
              "      }\n",
              "    </script>\n",
              "  </div>\n",
              "\n",
              "\n",
              "<div id=\"df-71bdc2ff-7b69-4668-9056-b935882f61d2\">\n",
              "  <button class=\"colab-df-quickchart\" onclick=\"quickchart('df-71bdc2ff-7b69-4668-9056-b935882f61d2')\"\n",
              "            title=\"Suggest charts\"\n",
              "            style=\"display:none;\">\n",
              "\n",
              "<svg xmlns=\"http://www.w3.org/2000/svg\" height=\"24px\"viewBox=\"0 0 24 24\"\n",
              "     width=\"24px\">\n",
              "    <g>\n",
              "        <path d=\"M19 3H5c-1.1 0-2 .9-2 2v14c0 1.1.9 2 2 2h14c1.1 0 2-.9 2-2V5c0-1.1-.9-2-2-2zM9 17H7v-7h2v7zm4 0h-2V7h2v10zm4 0h-2v-4h2v4z\"/>\n",
              "    </g>\n",
              "</svg>\n",
              "  </button>\n",
              "\n",
              "<style>\n",
              "  .colab-df-quickchart {\n",
              "      --bg-color: #E8F0FE;\n",
              "      --fill-color: #1967D2;\n",
              "      --hover-bg-color: #E2EBFA;\n",
              "      --hover-fill-color: #174EA6;\n",
              "      --disabled-fill-color: #AAA;\n",
              "      --disabled-bg-color: #DDD;\n",
              "  }\n",
              "\n",
              "  [theme=dark] .colab-df-quickchart {\n",
              "      --bg-color: #3B4455;\n",
              "      --fill-color: #D2E3FC;\n",
              "      --hover-bg-color: #434B5C;\n",
              "      --hover-fill-color: #FFFFFF;\n",
              "      --disabled-bg-color: #3B4455;\n",
              "      --disabled-fill-color: #666;\n",
              "  }\n",
              "\n",
              "  .colab-df-quickchart {\n",
              "    background-color: var(--bg-color);\n",
              "    border: none;\n",
              "    border-radius: 50%;\n",
              "    cursor: pointer;\n",
              "    display: none;\n",
              "    fill: var(--fill-color);\n",
              "    height: 32px;\n",
              "    padding: 0;\n",
              "    width: 32px;\n",
              "  }\n",
              "\n",
              "  .colab-df-quickchart:hover {\n",
              "    background-color: var(--hover-bg-color);\n",
              "    box-shadow: 0 1px 2px rgba(60, 64, 67, 0.3), 0 1px 3px 1px rgba(60, 64, 67, 0.15);\n",
              "    fill: var(--button-hover-fill-color);\n",
              "  }\n",
              "\n",
              "  .colab-df-quickchart-complete:disabled,\n",
              "  .colab-df-quickchart-complete:disabled:hover {\n",
              "    background-color: var(--disabled-bg-color);\n",
              "    fill: var(--disabled-fill-color);\n",
              "    box-shadow: none;\n",
              "  }\n",
              "\n",
              "  .colab-df-spinner {\n",
              "    border: 2px solid var(--fill-color);\n",
              "    border-color: transparent;\n",
              "    border-bottom-color: var(--fill-color);\n",
              "    animation:\n",
              "      spin 1s steps(1) infinite;\n",
              "  }\n",
              "\n",
              "  @keyframes spin {\n",
              "    0% {\n",
              "      border-color: transparent;\n",
              "      border-bottom-color: var(--fill-color);\n",
              "      border-left-color: var(--fill-color);\n",
              "    }\n",
              "    20% {\n",
              "      border-color: transparent;\n",
              "      border-left-color: var(--fill-color);\n",
              "      border-top-color: var(--fill-color);\n",
              "    }\n",
              "    30% {\n",
              "      border-color: transparent;\n",
              "      border-left-color: var(--fill-color);\n",
              "      border-top-color: var(--fill-color);\n",
              "      border-right-color: var(--fill-color);\n",
              "    }\n",
              "    40% {\n",
              "      border-color: transparent;\n",
              "      border-right-color: var(--fill-color);\n",
              "      border-top-color: var(--fill-color);\n",
              "    }\n",
              "    60% {\n",
              "      border-color: transparent;\n",
              "      border-right-color: var(--fill-color);\n",
              "    }\n",
              "    80% {\n",
              "      border-color: transparent;\n",
              "      border-right-color: var(--fill-color);\n",
              "      border-bottom-color: var(--fill-color);\n",
              "    }\n",
              "    90% {\n",
              "      border-color: transparent;\n",
              "      border-bottom-color: var(--fill-color);\n",
              "    }\n",
              "  }\n",
              "</style>\n",
              "\n",
              "  <script>\n",
              "    async function quickchart(key) {\n",
              "      const quickchartButtonEl =\n",
              "        document.querySelector('#' + key + ' button');\n",
              "      quickchartButtonEl.disabled = true;  // To prevent multiple clicks.\n",
              "      quickchartButtonEl.classList.add('colab-df-spinner');\n",
              "      try {\n",
              "        const charts = await google.colab.kernel.invokeFunction(\n",
              "            'suggestCharts', [key], {});\n",
              "      } catch (error) {\n",
              "        console.error('Error during call to suggestCharts:', error);\n",
              "      }\n",
              "      quickchartButtonEl.classList.remove('colab-df-spinner');\n",
              "      quickchartButtonEl.classList.add('colab-df-quickchart-complete');\n",
              "    }\n",
              "    (() => {\n",
              "      let quickchartButtonEl =\n",
              "        document.querySelector('#df-71bdc2ff-7b69-4668-9056-b935882f61d2 button');\n",
              "      quickchartButtonEl.style.display =\n",
              "        google.colab.kernel.accessAllowed ? 'block' : 'none';\n",
              "    })();\n",
              "  </script>\n",
              "</div>\n",
              "\n",
              "    </div>\n",
              "  </div>\n"
            ],
            "application/vnd.google.colaboratory.intrinsic+json": {
              "type": "dataframe",
              "variable_name": "df",
              "summary": "{\n  \"name\": \"df\",\n  \"rows\": 1258,\n  \"fields\": [\n    {\n      \"column\": \"Date\",\n      \"properties\": {\n        \"dtype\": \"object\",\n        \"num_unique_values\": 1258,\n        \"samples\": [\n          \"3/28/2014\",\n          \"5/29/2012\",\n          \"3/16/2012\"\n        ],\n        \"semantic_type\": \"\",\n        \"description\": \"\"\n      }\n    },\n    {\n      \"column\": \"Open\",\n      \"properties\": {\n        \"dtype\": \"number\",\n        \"std\": 151.90444191569622,\n        \"min\": 279.12,\n        \"max\": 816.68,\n        \"num_unique_values\": 1215,\n        \"samples\": [\n          509.6,\n          536.91,\n          302.89\n        ],\n        \"semantic_type\": \"\",\n        \"description\": \"\"\n      }\n    },\n    {\n      \"column\": \"High\",\n      \"properties\": {\n        \"dtype\": \"number\",\n        \"std\": 153.00881086661113,\n        \"min\": 281.21,\n        \"max\": 816.68,\n        \"num_unique_values\": 1219,\n        \"samples\": [\n          564.88,\n          376.39,\n          304.45\n        ],\n        \"semantic_type\": \"\",\n        \"description\": \"\"\n      }\n    },\n    {\n      \"column\": \"Low\",\n      \"properties\": {\n        \"dtype\": \"number\",\n        \"std\": 150.5528073376812,\n        \"min\": 277.22,\n        \"max\": 805.14,\n        \"num_unique_values\": 1223,\n        \"samples\": [\n          583.4,\n          341.56,\n          335.78\n        ],\n        \"semantic_type\": \"\",\n        \"description\": \"\"\n      }\n    },\n    {\n      \"column\": \"Volume\",\n      \"properties\": {\n        \"dtype\": \"string\",\n        \"num_unique_values\": 1240,\n        \"samples\": [\n          \"3,737,100\",\n          \"7,884,700\",\n          \"2,920,800\"\n        ],\n        \"semantic_type\": \"\",\n        \"description\": \"\"\n      }\n    },\n    {\n      \"column\": \"Close\",\n      \"properties\": {\n        \"dtype\": \"string\",\n        \"num_unique_values\": 1241,\n        \"samples\": [\n          \"600.7\",\n          \"605.89\",\n          \"704.36\"\n        ],\n        \"semantic_type\": \"\",\n        \"description\": \"\"\n      }\n    }\n  ]\n}"
            }
          },
          "metadata": {},
          "execution_count": 27
        }
      ],
      "source": [
        "df.head()"
      ]
    },
    {
      "cell_type": "code",
      "execution_count": 28,
      "metadata": {
        "id": "RNoQooYvQjEY"
      },
      "outputs": [],
      "source": [
        "# Removendo a vírgula como separador de milhar na coluna 'Volume' e convertendo para float\n",
        "df['Volume'] = df['Volume'].str.replace(',', '').astype(int)\n",
        "\n",
        "# Removendo a vírgula como separador de milhar na coluna 'Close' e convertendo para float\n",
        "df['Close'] = df['Close'].str.replace(',', '').astype(float)"
      ]
    },
    {
      "cell_type": "code",
      "execution_count": 29,
      "metadata": {
        "colab": {
          "base_uri": "https://localhost:8080/"
        },
        "id": "WI618Y_aQjEY",
        "outputId": "0d6844a6-584d-4709-afa2-857f2f3a46e4"
      },
      "outputs": [
        {
          "output_type": "execute_result",
          "data": {
            "text/plain": [
              "Date      0\n",
              "Open      0\n",
              "High      0\n",
              "Low       0\n",
              "Volume    0\n",
              "Close     0\n",
              "dtype: int64"
            ]
          },
          "metadata": {},
          "execution_count": 29
        }
      ],
      "source": [
        "df.isna().sum()"
      ]
    },
    {
      "cell_type": "code",
      "execution_count": 30,
      "metadata": {
        "colab": {
          "base_uri": "https://localhost:8080/",
          "height": 300
        },
        "id": "_jwG03V9QjEZ",
        "outputId": "14e75201-f175-4062-b1aa-2f1d08f7808b"
      },
      "outputs": [
        {
          "output_type": "execute_result",
          "data": {
            "text/plain": [
              "              Open         High          Low        Volume        Close\n",
              "count  1258.000000  1258.000000  1258.000000  1.258000e+03  1258.000000\n",
              "mean    533.709833   537.880223   529.007409  3.158107e+06   712.669666\n",
              "std     151.904442   153.008811   150.552807  2.273726e+06   164.752591\n",
              "min     279.120000   281.210000   277.220000  7.900000e+03   491.200000\n",
              "25%     404.115000   406.765000   401.765000  1.621700e+06   576.740000\n",
              "50%     537.470000   540.750000   532.990000  2.566150e+06   695.675000\n",
              "75%     654.922500   662.587500   644.800000  4.122500e+06   782.105000\n",
              "max     816.680000   816.680000   805.140000  2.497790e+07  1216.830000"
            ],
            "text/html": [
              "\n",
              "  <div id=\"df-3b0630e8-5b2f-44ad-bfdc-40613e248203\" class=\"colab-df-container\">\n",
              "    <div>\n",
              "<style scoped>\n",
              "    .dataframe tbody tr th:only-of-type {\n",
              "        vertical-align: middle;\n",
              "    }\n",
              "\n",
              "    .dataframe tbody tr th {\n",
              "        vertical-align: top;\n",
              "    }\n",
              "\n",
              "    .dataframe thead th {\n",
              "        text-align: right;\n",
              "    }\n",
              "</style>\n",
              "<table border=\"1\" class=\"dataframe\">\n",
              "  <thead>\n",
              "    <tr style=\"text-align: right;\">\n",
              "      <th></th>\n",
              "      <th>Open</th>\n",
              "      <th>High</th>\n",
              "      <th>Low</th>\n",
              "      <th>Volume</th>\n",
              "      <th>Close</th>\n",
              "    </tr>\n",
              "  </thead>\n",
              "  <tbody>\n",
              "    <tr>\n",
              "      <th>count</th>\n",
              "      <td>1258.000000</td>\n",
              "      <td>1258.000000</td>\n",
              "      <td>1258.000000</td>\n",
              "      <td>1.258000e+03</td>\n",
              "      <td>1258.000000</td>\n",
              "    </tr>\n",
              "    <tr>\n",
              "      <th>mean</th>\n",
              "      <td>533.709833</td>\n",
              "      <td>537.880223</td>\n",
              "      <td>529.007409</td>\n",
              "      <td>3.158107e+06</td>\n",
              "      <td>712.669666</td>\n",
              "    </tr>\n",
              "    <tr>\n",
              "      <th>std</th>\n",
              "      <td>151.904442</td>\n",
              "      <td>153.008811</td>\n",
              "      <td>150.552807</td>\n",
              "      <td>2.273726e+06</td>\n",
              "      <td>164.752591</td>\n",
              "    </tr>\n",
              "    <tr>\n",
              "      <th>min</th>\n",
              "      <td>279.120000</td>\n",
              "      <td>281.210000</td>\n",
              "      <td>277.220000</td>\n",
              "      <td>7.900000e+03</td>\n",
              "      <td>491.200000</td>\n",
              "    </tr>\n",
              "    <tr>\n",
              "      <th>25%</th>\n",
              "      <td>404.115000</td>\n",
              "      <td>406.765000</td>\n",
              "      <td>401.765000</td>\n",
              "      <td>1.621700e+06</td>\n",
              "      <td>576.740000</td>\n",
              "    </tr>\n",
              "    <tr>\n",
              "      <th>50%</th>\n",
              "      <td>537.470000</td>\n",
              "      <td>540.750000</td>\n",
              "      <td>532.990000</td>\n",
              "      <td>2.566150e+06</td>\n",
              "      <td>695.675000</td>\n",
              "    </tr>\n",
              "    <tr>\n",
              "      <th>75%</th>\n",
              "      <td>654.922500</td>\n",
              "      <td>662.587500</td>\n",
              "      <td>644.800000</td>\n",
              "      <td>4.122500e+06</td>\n",
              "      <td>782.105000</td>\n",
              "    </tr>\n",
              "    <tr>\n",
              "      <th>max</th>\n",
              "      <td>816.680000</td>\n",
              "      <td>816.680000</td>\n",
              "      <td>805.140000</td>\n",
              "      <td>2.497790e+07</td>\n",
              "      <td>1216.830000</td>\n",
              "    </tr>\n",
              "  </tbody>\n",
              "</table>\n",
              "</div>\n",
              "    <div class=\"colab-df-buttons\">\n",
              "\n",
              "  <div class=\"colab-df-container\">\n",
              "    <button class=\"colab-df-convert\" onclick=\"convertToInteractive('df-3b0630e8-5b2f-44ad-bfdc-40613e248203')\"\n",
              "            title=\"Convert this dataframe to an interactive table.\"\n",
              "            style=\"display:none;\">\n",
              "\n",
              "  <svg xmlns=\"http://www.w3.org/2000/svg\" height=\"24px\" viewBox=\"0 -960 960 960\">\n",
              "    <path d=\"M120-120v-720h720v720H120Zm60-500h600v-160H180v160Zm220 220h160v-160H400v160Zm0 220h160v-160H400v160ZM180-400h160v-160H180v160Zm440 0h160v-160H620v160ZM180-180h160v-160H180v160Zm440 0h160v-160H620v160Z\"/>\n",
              "  </svg>\n",
              "    </button>\n",
              "\n",
              "  <style>\n",
              "    .colab-df-container {\n",
              "      display:flex;\n",
              "      gap: 12px;\n",
              "    }\n",
              "\n",
              "    .colab-df-convert {\n",
              "      background-color: #E8F0FE;\n",
              "      border: none;\n",
              "      border-radius: 50%;\n",
              "      cursor: pointer;\n",
              "      display: none;\n",
              "      fill: #1967D2;\n",
              "      height: 32px;\n",
              "      padding: 0 0 0 0;\n",
              "      width: 32px;\n",
              "    }\n",
              "\n",
              "    .colab-df-convert:hover {\n",
              "      background-color: #E2EBFA;\n",
              "      box-shadow: 0px 1px 2px rgba(60, 64, 67, 0.3), 0px 1px 3px 1px rgba(60, 64, 67, 0.15);\n",
              "      fill: #174EA6;\n",
              "    }\n",
              "\n",
              "    .colab-df-buttons div {\n",
              "      margin-bottom: 4px;\n",
              "    }\n",
              "\n",
              "    [theme=dark] .colab-df-convert {\n",
              "      background-color: #3B4455;\n",
              "      fill: #D2E3FC;\n",
              "    }\n",
              "\n",
              "    [theme=dark] .colab-df-convert:hover {\n",
              "      background-color: #434B5C;\n",
              "      box-shadow: 0px 1px 3px 1px rgba(0, 0, 0, 0.15);\n",
              "      filter: drop-shadow(0px 1px 2px rgba(0, 0, 0, 0.3));\n",
              "      fill: #FFFFFF;\n",
              "    }\n",
              "  </style>\n",
              "\n",
              "    <script>\n",
              "      const buttonEl =\n",
              "        document.querySelector('#df-3b0630e8-5b2f-44ad-bfdc-40613e248203 button.colab-df-convert');\n",
              "      buttonEl.style.display =\n",
              "        google.colab.kernel.accessAllowed ? 'block' : 'none';\n",
              "\n",
              "      async function convertToInteractive(key) {\n",
              "        const element = document.querySelector('#df-3b0630e8-5b2f-44ad-bfdc-40613e248203');\n",
              "        const dataTable =\n",
              "          await google.colab.kernel.invokeFunction('convertToInteractive',\n",
              "                                                    [key], {});\n",
              "        if (!dataTable) return;\n",
              "\n",
              "        const docLinkHtml = 'Like what you see? Visit the ' +\n",
              "          '<a target=\"_blank\" href=https://colab.research.google.com/notebooks/data_table.ipynb>data table notebook</a>'\n",
              "          + ' to learn more about interactive tables.';\n",
              "        element.innerHTML = '';\n",
              "        dataTable['output_type'] = 'display_data';\n",
              "        await google.colab.output.renderOutput(dataTable, element);\n",
              "        const docLink = document.createElement('div');\n",
              "        docLink.innerHTML = docLinkHtml;\n",
              "        element.appendChild(docLink);\n",
              "      }\n",
              "    </script>\n",
              "  </div>\n",
              "\n",
              "\n",
              "<div id=\"df-c38eacf3-b9d3-4841-ac74-b2c3faffed26\">\n",
              "  <button class=\"colab-df-quickchart\" onclick=\"quickchart('df-c38eacf3-b9d3-4841-ac74-b2c3faffed26')\"\n",
              "            title=\"Suggest charts\"\n",
              "            style=\"display:none;\">\n",
              "\n",
              "<svg xmlns=\"http://www.w3.org/2000/svg\" height=\"24px\"viewBox=\"0 0 24 24\"\n",
              "     width=\"24px\">\n",
              "    <g>\n",
              "        <path d=\"M19 3H5c-1.1 0-2 .9-2 2v14c0 1.1.9 2 2 2h14c1.1 0 2-.9 2-2V5c0-1.1-.9-2-2-2zM9 17H7v-7h2v7zm4 0h-2V7h2v10zm4 0h-2v-4h2v4z\"/>\n",
              "    </g>\n",
              "</svg>\n",
              "  </button>\n",
              "\n",
              "<style>\n",
              "  .colab-df-quickchart {\n",
              "      --bg-color: #E8F0FE;\n",
              "      --fill-color: #1967D2;\n",
              "      --hover-bg-color: #E2EBFA;\n",
              "      --hover-fill-color: #174EA6;\n",
              "      --disabled-fill-color: #AAA;\n",
              "      --disabled-bg-color: #DDD;\n",
              "  }\n",
              "\n",
              "  [theme=dark] .colab-df-quickchart {\n",
              "      --bg-color: #3B4455;\n",
              "      --fill-color: #D2E3FC;\n",
              "      --hover-bg-color: #434B5C;\n",
              "      --hover-fill-color: #FFFFFF;\n",
              "      --disabled-bg-color: #3B4455;\n",
              "      --disabled-fill-color: #666;\n",
              "  }\n",
              "\n",
              "  .colab-df-quickchart {\n",
              "    background-color: var(--bg-color);\n",
              "    border: none;\n",
              "    border-radius: 50%;\n",
              "    cursor: pointer;\n",
              "    display: none;\n",
              "    fill: var(--fill-color);\n",
              "    height: 32px;\n",
              "    padding: 0;\n",
              "    width: 32px;\n",
              "  }\n",
              "\n",
              "  .colab-df-quickchart:hover {\n",
              "    background-color: var(--hover-bg-color);\n",
              "    box-shadow: 0 1px 2px rgba(60, 64, 67, 0.3), 0 1px 3px 1px rgba(60, 64, 67, 0.15);\n",
              "    fill: var(--button-hover-fill-color);\n",
              "  }\n",
              "\n",
              "  .colab-df-quickchart-complete:disabled,\n",
              "  .colab-df-quickchart-complete:disabled:hover {\n",
              "    background-color: var(--disabled-bg-color);\n",
              "    fill: var(--disabled-fill-color);\n",
              "    box-shadow: none;\n",
              "  }\n",
              "\n",
              "  .colab-df-spinner {\n",
              "    border: 2px solid var(--fill-color);\n",
              "    border-color: transparent;\n",
              "    border-bottom-color: var(--fill-color);\n",
              "    animation:\n",
              "      spin 1s steps(1) infinite;\n",
              "  }\n",
              "\n",
              "  @keyframes spin {\n",
              "    0% {\n",
              "      border-color: transparent;\n",
              "      border-bottom-color: var(--fill-color);\n",
              "      border-left-color: var(--fill-color);\n",
              "    }\n",
              "    20% {\n",
              "      border-color: transparent;\n",
              "      border-left-color: var(--fill-color);\n",
              "      border-top-color: var(--fill-color);\n",
              "    }\n",
              "    30% {\n",
              "      border-color: transparent;\n",
              "      border-left-color: var(--fill-color);\n",
              "      border-top-color: var(--fill-color);\n",
              "      border-right-color: var(--fill-color);\n",
              "    }\n",
              "    40% {\n",
              "      border-color: transparent;\n",
              "      border-right-color: var(--fill-color);\n",
              "      border-top-color: var(--fill-color);\n",
              "    }\n",
              "    60% {\n",
              "      border-color: transparent;\n",
              "      border-right-color: var(--fill-color);\n",
              "    }\n",
              "    80% {\n",
              "      border-color: transparent;\n",
              "      border-right-color: var(--fill-color);\n",
              "      border-bottom-color: var(--fill-color);\n",
              "    }\n",
              "    90% {\n",
              "      border-color: transparent;\n",
              "      border-bottom-color: var(--fill-color);\n",
              "    }\n",
              "  }\n",
              "</style>\n",
              "\n",
              "  <script>\n",
              "    async function quickchart(key) {\n",
              "      const quickchartButtonEl =\n",
              "        document.querySelector('#' + key + ' button');\n",
              "      quickchartButtonEl.disabled = true;  // To prevent multiple clicks.\n",
              "      quickchartButtonEl.classList.add('colab-df-spinner');\n",
              "      try {\n",
              "        const charts = await google.colab.kernel.invokeFunction(\n",
              "            'suggestCharts', [key], {});\n",
              "      } catch (error) {\n",
              "        console.error('Error during call to suggestCharts:', error);\n",
              "      }\n",
              "      quickchartButtonEl.classList.remove('colab-df-spinner');\n",
              "      quickchartButtonEl.classList.add('colab-df-quickchart-complete');\n",
              "    }\n",
              "    (() => {\n",
              "      let quickchartButtonEl =\n",
              "        document.querySelector('#df-c38eacf3-b9d3-4841-ac74-b2c3faffed26 button');\n",
              "      quickchartButtonEl.style.display =\n",
              "        google.colab.kernel.accessAllowed ? 'block' : 'none';\n",
              "    })();\n",
              "  </script>\n",
              "</div>\n",
              "\n",
              "    </div>\n",
              "  </div>\n"
            ],
            "application/vnd.google.colaboratory.intrinsic+json": {
              "type": "dataframe",
              "summary": "{\n  \"name\": \"df\",\n  \"rows\": 8,\n  \"fields\": [\n    {\n      \"column\": \"Open\",\n      \"properties\": {\n        \"dtype\": \"number\",\n        \"std\": 344.34086503832845,\n        \"min\": 151.90444191569622,\n        \"max\": 1258.0,\n        \"num_unique_values\": 8,\n        \"samples\": [\n          533.7098330683625,\n          537.47,\n          1258.0\n        ],\n        \"semantic_type\": \"\",\n        \"description\": \"\"\n      }\n    },\n    {\n      \"column\": \"High\",\n      \"properties\": {\n        \"dtype\": \"number\",\n        \"std\": 343.8040216995856,\n        \"min\": 153.00881086661113,\n        \"max\": 1258.0,\n        \"num_unique_values\": 8,\n        \"samples\": [\n          537.8802225755168,\n          540.75,\n          1258.0\n        ],\n        \"semantic_type\": \"\",\n        \"description\": \"\"\n      }\n    },\n    {\n      \"column\": \"Low\",\n      \"properties\": {\n        \"dtype\": \"number\",\n        \"std\": 343.7283596771054,\n        \"min\": 150.5528073376812,\n        \"max\": 1258.0,\n        \"num_unique_values\": 8,\n        \"samples\": [\n          529.0074085850557,\n          532.99,\n          1258.0\n        ],\n        \"semantic_type\": \"\",\n        \"description\": \"\"\n      }\n    },\n    {\n      \"column\": \"Volume\",\n      \"properties\": {\n        \"dtype\": \"number\",\n        \"std\": 8261397.3611159185,\n        \"min\": 1258.0,\n        \"max\": 24977900.0,\n        \"num_unique_values\": 8,\n        \"samples\": [\n          3158106.756756757,\n          2566150.0,\n          1258.0\n        ],\n        \"semantic_type\": \"\",\n        \"description\": \"\"\n      }\n    },\n    {\n      \"column\": \"Close\",\n      \"properties\": {\n        \"dtype\": \"number\",\n        \"std\": 362.447933093099,\n        \"min\": 164.75259078525377,\n        \"max\": 1258.0,\n        \"num_unique_values\": 8,\n        \"samples\": [\n          712.6696661367249,\n          695.675,\n          1258.0\n        ],\n        \"semantic_type\": \"\",\n        \"description\": \"\"\n      }\n    }\n  ]\n}"
            }
          },
          "metadata": {},
          "execution_count": 30
        }
      ],
      "source": [
        "df.describe()"
      ]
    },
    {
      "cell_type": "code",
      "execution_count": 31,
      "metadata": {
        "id": "TwR3-dY8QjEZ"
      },
      "outputs": [],
      "source": [
        "data = df.drop('Date', axis = 1).values"
      ]
    },
    {
      "cell_type": "code",
      "execution_count": 32,
      "metadata": {
        "id": "ybSs7gN5QjEa"
      },
      "outputs": [],
      "source": [
        "# Função para criar dados históricos de lookback\n",
        "def create_dataset(data, time_step=60):\n",
        "    \"\"\"\n",
        "    Cria dados históricos para previsão, considerando uma janela de tempo.\n",
        "\n",
        "    Args:\n",
        "        data (np.array): O conjunto de dados de entrada, contendo as colunas 'Open', 'High', 'Low' e 'Close'.\n",
        "        time_step (int): O número de passos de tempo (dias) para a janela de lookback.\n",
        "\n",
        "    Returns:\n",
        "        np.array: Os dados de entrada (X) com forma (n_amostras, time_step, n_features).\n",
        "        np.array: Os dados de saída (Y) com forma (n_amostras,).\n",
        "    \"\"\"\n",
        "    # Inicializando as listas para armazenar as sequências de entrada (X) e os valores alvo (Y)\n",
        "    X, y = [], []\n",
        "\n",
        "    # Loop para criar sequências de entrada e os valores alvo correspondentes\n",
        "    for i in range(len(data) - time_step):\n",
        "        # Adicionando a sequência de 'time_step' valores à lista X\n",
        "        X.append(data[i:(i + time_step)])\n",
        "        # Adicionando o valor de 'Close' após a sequência à lista Y\n",
        "        y.append(data[i + time_step, -1])  # Usando 'Close' como o valor alvo\n",
        "\n",
        "    # Convertendo as listas X e Y para arrays numpy\n",
        "    return np.array(X), np.array(y)\n"
      ]
    },
    {
      "cell_type": "markdown",
      "metadata": {
        "id": "ZHgAvujtQjEa"
      },
      "source": [
        "## Explicação da Função `create_dataset`\n",
        "\n",
        "### Por que esta função é necessária?\n",
        "\n",
        "Em problemas de séries temporais, como a previsão de preços de ações, é importante capturar a dependência temporal dos dados. Isso significa que a previsão de um valor futuro depende de uma sequência de valores passados. A função `create_dataset` é usada para preparar os dados de entrada de modo a incluir essas sequências históricas (lookback) para treinar modelos de aprendizado de máquina ou deep learning.\n",
        "\n",
        "### Como a função `create_dataset` funciona?\n",
        "\n",
        "A função `create_dataset` recebe um conjunto de dados e um parâmetro `time_step` que define o tamanho da janela de tempo (lookback) usada para criar as sequências históricas. A função retorna duas arrays: uma contendo as sequências de entrada (`X`) e outra contendo os valores alvo correspondentes (`Y`).\n",
        "\n",
        "### Passo a Passo da Função\n",
        "\n",
        "1. **Inicialização**:\n",
        "    - A função inicializa duas listas vazias, `X` e `Y`, para armazenar as sequências de entrada e os valores alvo, respectivamente.\n",
        "\n",
        "2. **Loop sobre os dados**:\n",
        "    - A função percorre o conjunto de dados usando um loop. Para cada posição no conjunto de dados:\n",
        "        - **Sequência de entrada (`X`)**: A função coleta uma sequência de `time_step` valores e a adiciona à lista `X`.\n",
        "        - **Valor alvo (`Y`)**: O valor de `Close` imediatamente após a sequência é adicionado à lista `Y`. Este é o valor que o modelo tentará prever.\n",
        "\n",
        "3. **Conversão para arrays NumPy**:\n",
        "    - Após a coleta de todas as sequências e valores alvo, as listas `X` e `Y` são convertidas para arrays NumPy para facilitar o uso em modelos de aprendizado de máquina.\n",
        "\n",
        "### Exemplo Prático\n",
        "\n",
        "Suponha que temos dados de preços de ações com colunas `Open`, `High`, `Low` e `Close`, e queremos prever o preço de fechamento (`Close`) usando os últimos 60 dias de dados. A função `create_dataset` será usada da seguinte maneira:\n",
        "\n",
        "```python\n",
        "data = df[['Open', 'High', 'Low', 'Close']].values  # Conjunto de dados de entrada\n",
        "time_step = 60  # Tamanho da janela de lookback\n",
        "X, Y = create_dataset(data, time_step)  # Criando as sequências de entrada e valores alvo\n"
      ]
    },
    {
      "cell_type": "code",
      "execution_count": 33,
      "metadata": {
        "id": "n5kTFcuVQjEb"
      },
      "outputs": [],
      "source": [
        "# Criando os dados históricos com lookback de 60 dias\n",
        "time_step = 14\n",
        "X, y = create_dataset(data, time_step)"
      ]
    },
    {
      "cell_type": "code",
      "execution_count": 34,
      "metadata": {
        "colab": {
          "base_uri": "https://localhost:8080/"
        },
        "id": "6fGYz3_PQjEb",
        "outputId": "1c889ee6-8aea-401b-874c-2408aa4f15a9"
      },
      "outputs": [
        {
          "output_type": "execute_result",
          "data": {
            "text/plain": [
              "array([[[3.25250e+02, 3.32830e+02, 3.24970e+02, 7.38050e+06,\n",
              "         6.63590e+02],\n",
              "        [3.31270e+02, 3.33870e+02, 3.29080e+02, 5.74940e+06,\n",
              "         6.66450e+02],\n",
              "        [3.29830e+02, 3.30750e+02, 3.26890e+02, 6.59030e+06,\n",
              "         6.57210e+02],\n",
              "        ...,\n",
              "        [3.19300e+02, 3.19300e+02, 3.14550e+02, 1.26578e+07,\n",
              "         6.37820e+02],\n",
              "        [2.94160e+02, 2.94400e+02, 2.89760e+02, 2.12318e+07,\n",
              "         5.84390e+02],\n",
              "        [2.91910e+02, 2.93230e+02, 2.90490e+02, 6.85130e+06,\n",
              "         5.83920e+02]],\n",
              "\n",
              "       [[3.31270e+02, 3.33870e+02, 3.29080e+02, 5.74940e+06,\n",
              "         6.66450e+02],\n",
              "        [3.29830e+02, 3.30750e+02, 3.26890e+02, 6.59030e+06,\n",
              "         6.57210e+02],\n",
              "        [3.28340e+02, 3.28770e+02, 3.23680e+02, 5.40590e+06,\n",
              "         6.48240e+02],\n",
              "        ...,\n",
              "        [2.94160e+02, 2.94400e+02, 2.89760e+02, 2.12318e+07,\n",
              "         5.84390e+02],\n",
              "        [2.91910e+02, 2.93230e+02, 2.90490e+02, 6.85130e+06,\n",
              "         5.83920e+02],\n",
              "        [2.92070e+02, 2.92740e+02, 2.87920e+02, 6.13440e+06,\n",
              "         5.79340e+02]],\n",
              "\n",
              "       [[3.29830e+02, 3.30750e+02, 3.26890e+02, 6.59030e+06,\n",
              "         6.57210e+02],\n",
              "        [3.28340e+02, 3.28770e+02, 3.23680e+02, 5.40590e+06,\n",
              "         6.48240e+02],\n",
              "        [3.22040e+02, 3.22290e+02, 3.09460e+02, 1.16888e+07,\n",
              "         6.20760e+02],\n",
              "        ...,\n",
              "        [2.91910e+02, 2.93230e+02, 2.90490e+02, 6.85130e+06,\n",
              "         5.83920e+02],\n",
              "        [2.92070e+02, 2.92740e+02, 2.87920e+02, 6.13440e+06,\n",
              "         5.79340e+02],\n",
              "        [2.87680e+02, 2.88270e+02, 2.82130e+02, 1.00127e+07,\n",
              "         5.67930e+02]],\n",
              "\n",
              "       ...,\n",
              "\n",
              "       [[7.61000e+02, 7.71360e+02, 7.55800e+02, 1.76100e+06,\n",
              "         7.71190e+02],\n",
              "        [7.72480e+02, 7.78180e+02, 7.67230e+02, 1.48810e+06,\n",
              "         7.76420e+02],\n",
              "        [7.80000e+02, 7.89430e+02, 7.79020e+02, 1.82190e+06,\n",
              "         7.89290e+02],\n",
              "        ...,\n",
              "        [7.92360e+02, 7.93320e+02, 7.88580e+02, 9.72200e+05,\n",
              "         7.91260e+02],\n",
              "        [7.90900e+02, 7.92740e+02, 7.87280e+02, 6.23400e+05,\n",
              "         7.89910e+02],\n",
              "        [7.90680e+02, 7.97860e+02, 7.87660e+02, 7.89100e+05,\n",
              "         7.91550e+02]],\n",
              "\n",
              "       [[7.72480e+02, 7.78180e+02, 7.67230e+02, 1.48810e+06,\n",
              "         7.76420e+02],\n",
              "        [7.80000e+02, 7.89430e+02, 7.79020e+02, 1.82190e+06,\n",
              "         7.89290e+02],\n",
              "        [7.85040e+02, 7.91250e+02, 7.84350e+02, 2.10410e+06,\n",
              "         7.89270e+02],\n",
              "        ...,\n",
              "        [7.90900e+02, 7.92740e+02, 7.87280e+02, 6.23400e+05,\n",
              "         7.89910e+02],\n",
              "        [7.90680e+02, 7.97860e+02, 7.87660e+02, 7.89100e+05,\n",
              "         7.91550e+02],\n",
              "        [7.93700e+02, 7.94230e+02, 7.83200e+02, 1.15380e+06,\n",
              "         7.85050e+02]],\n",
              "\n",
              "       [[7.80000e+02, 7.89430e+02, 7.79020e+02, 1.82190e+06,\n",
              "         7.89290e+02],\n",
              "        [7.85040e+02, 7.91250e+02, 7.84350e+02, 2.10410e+06,\n",
              "         7.89270e+02],\n",
              "        [7.93900e+02, 8.04380e+02, 7.93340e+02, 2.14520e+06,\n",
              "         7.96100e+02],\n",
              "        ...,\n",
              "        [7.90680e+02, 7.97860e+02, 7.87660e+02, 7.89100e+05,\n",
              "         7.91550e+02],\n",
              "        [7.93700e+02, 7.94230e+02, 7.83200e+02, 1.15380e+06,\n",
              "         7.85050e+02],\n",
              "        [7.83330e+02, 7.85930e+02, 7.78920e+02, 7.44300e+05,\n",
              "         7.82790e+02]]])"
            ]
          },
          "metadata": {},
          "execution_count": 34
        }
      ],
      "source": [
        "X"
      ]
    },
    {
      "cell_type": "code",
      "execution_count": 35,
      "metadata": {
        "colab": {
          "base_uri": "https://localhost:8080/"
        },
        "id": "_MLmzLh0QjEc",
        "outputId": "8e9a4ac7-2e25-473d-a7d7-d6f9b0b63002"
      },
      "outputs": [
        {
          "output_type": "execute_result",
          "data": {
            "text/plain": [
              "array([[3.25250e+02, 3.32830e+02, 3.24970e+02, 7.38050e+06, 6.63590e+02],\n",
              "       [3.31270e+02, 3.33870e+02, 3.29080e+02, 5.74940e+06, 6.66450e+02],\n",
              "       [3.29830e+02, 3.30750e+02, 3.26890e+02, 6.59030e+06, 6.57210e+02],\n",
              "       [3.28340e+02, 3.28770e+02, 3.23680e+02, 5.40590e+06, 6.48240e+02],\n",
              "       [3.22040e+02, 3.22290e+02, 3.09460e+02, 1.16888e+07, 6.20760e+02],\n",
              "       [3.13700e+02, 3.15720e+02, 3.07300e+02, 8.82400e+06, 6.21430e+02],\n",
              "       [3.10590e+02, 3.13520e+02, 3.09400e+02, 4.81780e+06, 6.24250e+02],\n",
              "       [3.14430e+02, 3.15260e+02, 3.12080e+02, 3.76440e+06, 6.27920e+02],\n",
              "       [3.11960e+02, 3.12300e+02, 3.09370e+02, 4.63180e+06, 6.23280e+02],\n",
              "       [3.14810e+02, 3.14810e+02, 3.11670e+02, 3.83280e+06, 6.26860e+02],\n",
              "       [3.12140e+02, 3.15820e+02, 3.09900e+02, 5.54400e+06, 6.31180e+02],\n",
              "       [3.19300e+02, 3.19300e+02, 3.14550e+02, 1.26578e+07, 6.37820e+02],\n",
              "       [2.94160e+02, 2.94400e+02, 2.89760e+02, 2.12318e+07, 5.84390e+02],\n",
              "       [2.91910e+02, 2.93230e+02, 2.90490e+02, 6.85130e+06, 5.83920e+02]])"
            ]
          },
          "metadata": {},
          "execution_count": 35
        }
      ],
      "source": [
        "X[0]"
      ]
    },
    {
      "cell_type": "code",
      "execution_count": 36,
      "metadata": {
        "id": "55FBSTOCQjEd"
      },
      "outputs": [],
      "source": [
        "# Dividindo os dados em conjuntos de treino e teste\n",
        "X_train = X[:int(len(X) * 0.8)]\n",
        "X_test = X[int(len(X) * 0.8):]\n",
        "\n",
        "y_train = y[:int(len(y) * 0.8)]\n",
        "y_test = y[int(len(y) * 0.8):]"
      ]
    },
    {
      "cell_type": "code",
      "execution_count": 37,
      "metadata": {
        "id": "9RrxqD0CQjEd"
      },
      "outputs": [],
      "source": [
        "# Normalizando os dados de treinamento\n",
        "scaler_X = MinMaxScaler(feature_range=(0, 1))\n",
        "scaler_y = MinMaxScaler(feature_range=(0, 1))\n",
        "\n",
        "X_train = scaler_X.fit_transform(X_train.reshape(-1, X_train.shape[-1])).reshape(X_train.shape)\n",
        "y_train = scaler_y.fit_transform(y_train.reshape(-1, 1))"
      ]
    },
    {
      "cell_type": "code",
      "execution_count": 38,
      "metadata": {
        "id": "RxTgXbPHQjEe"
      },
      "outputs": [],
      "source": [
        "# Normalizando os dados de teste\n",
        "X_test = scaler_X.transform(X_test.reshape(-1, X_test.shape[-1])).reshape(X_test.shape)\n",
        "y_test = scaler_y.transform(y_test.reshape(-1, 1))"
      ]
    },
    {
      "cell_type": "code",
      "execution_count": 39,
      "metadata": {
        "colab": {
          "base_uri": "https://localhost:8080/"
        },
        "id": "KlkVP9xZQjEe",
        "outputId": "943c0b21-dd18-4de9-feb8-9cd71b1764a6"
      },
      "outputs": [
        {
          "output_type": "stream",
          "name": "stdout",
          "text": [
            "X_train shape: (995, 14, 5)\n",
            "y_train shape: (995, 1)\n",
            "X_test shape: (249, 14, 5)\n",
            "y_test shape: (249, 1)\n"
          ]
        }
      ],
      "source": [
        "# Verificando as formas dos conjuntos de dados\n",
        "print(\"X_train shape:\", X_train.shape)\n",
        "print(\"y_train shape:\", y_train.shape)\n",
        "print(\"X_test shape:\", X_test.shape)\n",
        "print(\"y_test shape:\", y_test.shape)"
      ]
    },
    {
      "cell_type": "code",
      "execution_count": 40,
      "metadata": {
        "colab": {
          "base_uri": "https://localhost:8080/"
        },
        "id": "H4EaWWtCQjEe",
        "outputId": "25c25a51-f7fd-4022-ac29-5cd554dc9fd3"
      },
      "outputs": [
        {
          "output_type": "execute_result",
          "data": {
            "text/plain": [
              "5"
            ]
          },
          "metadata": {},
          "execution_count": 40
        }
      ],
      "source": [
        "X_train.shape[2]"
      ]
    },
    {
      "cell_type": "code",
      "execution_count": 41,
      "metadata": {
        "colab": {
          "base_uri": "https://localhost:8080/"
        },
        "id": "aypZ6VHwQjEf",
        "outputId": "875b364f-fca3-4ce2-9576-836f0f369513"
      },
      "outputs": [
        {
          "output_type": "execute_result",
          "data": {
            "text/plain": [
              "(995, 14, 5)"
            ]
          },
          "metadata": {},
          "execution_count": 41
        }
      ],
      "source": [
        "X_train.shape"
      ]
    },
    {
      "cell_type": "code",
      "execution_count": 42,
      "metadata": {
        "colab": {
          "base_uri": "https://localhost:8080/"
        },
        "id": "FOHisnqRQjEf",
        "outputId": "a7d05f1d-f53f-41ce-f229-ee3723928974"
      },
      "outputs": [
        {
          "output_type": "stream",
          "name": "stdout",
          "text": [
            "Model: \"sequential_1\"\n",
            "_________________________________________________________________\n",
            " Layer (type)                Output Shape              Param #   \n",
            "=================================================================\n",
            " simple_rnn_1 (SimpleRNN)    (None, 14, 50)            2800      \n",
            "                                                                 \n",
            " dropout_1 (Dropout)         (None, 14, 50)            0         \n",
            "                                                                 \n",
            " simple_rnn_2 (SimpleRNN)    (None, 50)                5050      \n",
            "                                                                 \n",
            " dropout_2 (Dropout)         (None, 50)                0         \n",
            "                                                                 \n",
            " dense_1 (Dense)             (None, 1)                 51        \n",
            "                                                                 \n",
            "=================================================================\n",
            "Total params: 7901 (30.86 KB)\n",
            "Trainable params: 7901 (30.86 KB)\n",
            "Non-trainable params: 0 (0.00 Byte)\n",
            "_________________________________________________________________\n"
          ]
        }
      ],
      "source": [
        "# Definindo a arquitetura do modelo RNN\n",
        "model = Sequential()\n",
        "\n",
        "# Adicionando uma camada RNN com 50 unidades e ativação tanh\n",
        "# Esta camada processa a sequência de entrada e mantém um estado interno para capturar dependências temporais\n",
        "# return_sequences=True garante que todas as saídas da sequência sejam retornadas, não apenas o último estado\n",
        "model.add(SimpleRNN(units=50, activation='tanh', return_sequences=True, input_shape=(X_train.shape[1], X_train.shape[2])))\n",
        "\n",
        "# Adicionando uma camada Dropout com taxa de 0.2 para evitar overfitting\n",
        "# Dropout ajuda a regularizar o modelo desligando aleatoriamente uma fração das unidades durante o treinamento\n",
        "model.add(Dropout(0.2))\n",
        "\n",
        "# Adicionando uma segunda camada RNN com 50 unidades e ativação tanh\n",
        "# Adiciona capacidade extra ao modelo para aprender padrões mais complexos nas sequências de entrada\n",
        "# Esta camada não precisa de return_sequences=True, pois é a última camada RNN antes da camada densa\n",
        "model.add(SimpleRNN(units=50, activation='tanh'))\n",
        "\n",
        "# Adicionando uma segunda camada Dropout com taxa de 0.2 para regularização adicional\n",
        "model.add(Dropout(0.2))\n",
        "\n",
        "# Adicionando uma camada densa (fully connected) com 1 unidade\n",
        "# Esta camada gera a previsão final do modelo\n",
        "model.add(Dense(units=1))\n",
        "\n",
        "# Compilando o modelo com otimizador adam e função de perda mean_squared_error\n",
        "model.compile(optimizer='adam', loss='mean_squared_error')\n",
        "\n",
        "# Exibindo a arquitetura do modelo\n",
        "model.summary()\n"
      ]
    },
    {
      "cell_type": "markdown",
      "metadata": {
        "id": "hzrQbtBPQjEg"
      },
      "source": [
        "### 3. Estrutura e Funcionamento das RNNs\n",
        "\n",
        "#### Arquitetura de uma RNN\n",
        "\n",
        "A arquitetura de uma Rede Neural Recorrente (RNN) é composta por várias camadas que trabalham juntas para processar dados sequenciais. Essas camadas incluem:\n",
        "\n",
        "- **Camada de Entrada**: Recebe os dados de entrada em uma sequência temporal. Cada elemento da sequência é processado um a um pela RNN.\n",
        "- **Camadas Ocultas Recorrentes**: Estas camadas são responsáveis por manter e atualizar o estado oculto da RNN. Cada unidade recorrente dentro dessas camadas utiliza os dados de entrada atuais e o estado oculto anterior para calcular o novo estado oculto.\n",
        "- **Camada de Saída**: Gera a saída da RNN a partir do estado oculto atual. A saída pode ser usada diretamente ou passar por camadas adicionais dependendo da aplicação.\n",
        "\n",
        "\n",
        "\n",
        "\n",
        "#### Propagação da Informação em RNNs\n",
        "\n",
        "**Propagação Direta (Forward Propagation)**\n",
        "A propagação direta em uma RNN envolve o cálculo do estado oculto e da saída para cada elemento da sequência de entrada. O processo é realizado da seguinte forma:\n",
        "\n",
        "1. **Estado Oculto Atual (\\(h_t\\))**: Calculado utilizando a entrada atual (\\(x_t\\)) e o estado oculto anterior (\\(h_{t-1}\\)):\n",
        "   \\[   h_t = \\sigma(W_{xh}x_t + W_{hh}h_{t-1} + b_h)   \\]\n",
        "   Onde:\n",
        "   - \\(W_{xh}\\) é a matriz de pesos entre a entrada e o estado oculto.\n",
        "   - \\(W_{hh}\\) é a matriz de pesos entre o estado oculto anterior e o estado oculto atual.\n",
        "   - \\(b_h\\) é o vetor de bias para o estado oculto.\n",
        "   - \\(\\sigma\\) é a função de ativação (e.g., tanh ou ReLU).\n",
        "\n",
        "2. **Saída Atual (\\(y_t\\))**: Calculada a partir do estado oculto atual:\n",
        "   \\[   y_t = \\sigma(W_{hy}h_t + b_y)   \\]\n",
        "   Onde:\n",
        "   - \\(W_{hy}\\) é a matriz de pesos entre o estado oculto e a saída.\n",
        "   - \\(b_y\\) é o vetor de bias para a saída.\n",
        "   - \\(\\sigma\\) é a função de ativação aplicada à saída.\n",
        "\n",
        "**Propagação Retroativa (Backpropagation Through Time - BPTT)**\n",
        "A propagação retroativa em RNNs, conhecida como Backpropagation Through Time (BPTT), é o método utilizado para treinar a rede ajustando os pesos com base nos erros de predição. O processo envolve:\n",
        "\n",
        "1. **Cálculo do Erro**: O erro é calculado comparando a saída da RNN com o valor esperado (ground truth).\n",
        "\n",
        "2. **Propagação do Erro Através do Tempo**: O erro é propagado para trás através do tempo, atualizando os pesos não apenas com base no estado atual, mas também considerando como os estados anteriores influenciaram o estado atual.\n",
        "\n",
        "3. **Atualização dos Pesos**: Os pesos da RNN são ajustados para minimizar o erro de predição utilizando gradientes calculados durante a propagação retroativa.\n",
        "\n",
        "Este processo permite que a RNN aprenda a ajustar seus parâmetros para capturar melhor as dependências temporais nos dados sequenciais, melhorando sua capacidade de fazer previsões precisas.\n"
      ]
    },
    {
      "cell_type": "code",
      "execution_count": 43,
      "metadata": {
        "colab": {
          "base_uri": "https://localhost:8080/"
        },
        "id": "gHB93unNQjEg",
        "outputId": "89e4c713-dc71-4e68-fc43-fc96217c60d2"
      },
      "outputs": [
        {
          "output_type": "stream",
          "name": "stdout",
          "text": [
            "Epoch 1/100\n",
            "28/28 - 3s - loss: 0.2517 - val_loss: 0.0575 - 3s/epoch - 89ms/step\n",
            "Epoch 2/100\n",
            "28/28 - 0s - loss: 0.1021 - val_loss: 0.0479 - 226ms/epoch - 8ms/step\n",
            "Epoch 3/100\n",
            "28/28 - 0s - loss: 0.0680 - val_loss: 0.0082 - 241ms/epoch - 9ms/step\n",
            "Epoch 4/100\n",
            "28/28 - 0s - loss: 0.0457 - val_loss: 0.0034 - 229ms/epoch - 8ms/step\n",
            "Epoch 5/100\n",
            "28/28 - 0s - loss: 0.0368 - val_loss: 0.0155 - 243ms/epoch - 9ms/step\n",
            "Epoch 6/100\n",
            "28/28 - 0s - loss: 0.0370 - val_loss: 0.0114 - 222ms/epoch - 8ms/step\n",
            "Epoch 7/100\n",
            "28/28 - 0s - loss: 0.0272 - val_loss: 0.0015 - 240ms/epoch - 9ms/step\n",
            "Epoch 8/100\n",
            "28/28 - 0s - loss: 0.0220 - val_loss: 0.0017 - 226ms/epoch - 8ms/step\n",
            "Epoch 9/100\n",
            "28/28 - 0s - loss: 0.0193 - val_loss: 0.0011 - 244ms/epoch - 9ms/step\n",
            "Epoch 10/100\n",
            "28/28 - 0s - loss: 0.0190 - val_loss: 0.0010 - 233ms/epoch - 8ms/step\n",
            "Epoch 11/100\n",
            "28/28 - 0s - loss: 0.0183 - val_loss: 0.0010 - 228ms/epoch - 8ms/step\n",
            "Epoch 12/100\n",
            "28/28 - 0s - loss: 0.0140 - val_loss: 7.5584e-04 - 222ms/epoch - 8ms/step\n",
            "Epoch 13/100\n",
            "28/28 - 0s - loss: 0.0136 - val_loss: 0.0011 - 228ms/epoch - 8ms/step\n",
            "Epoch 14/100\n",
            "28/28 - 0s - loss: 0.0136 - val_loss: 0.0012 - 235ms/epoch - 8ms/step\n",
            "Epoch 15/100\n",
            "28/28 - 0s - loss: 0.0116 - val_loss: 0.0022 - 223ms/epoch - 8ms/step\n",
            "Epoch 16/100\n",
            "28/28 - 0s - loss: 0.0114 - val_loss: 0.0023 - 273ms/epoch - 10ms/step\n",
            "Epoch 17/100\n",
            "28/28 - 0s - loss: 0.0107 - val_loss: 0.0034 - 228ms/epoch - 8ms/step\n",
            "Epoch 18/100\n",
            "28/28 - 0s - loss: 0.0102 - val_loss: 9.7563e-04 - 239ms/epoch - 9ms/step\n",
            "Epoch 19/100\n",
            "28/28 - 0s - loss: 0.0097 - val_loss: 8.7915e-04 - 222ms/epoch - 8ms/step\n",
            "Epoch 20/100\n",
            "28/28 - 0s - loss: 0.0089 - val_loss: 7.6352e-04 - 231ms/epoch - 8ms/step\n",
            "Epoch 21/100\n",
            "28/28 - 0s - loss: 0.0088 - val_loss: 0.0016 - 233ms/epoch - 8ms/step\n",
            "Epoch 22/100\n",
            "28/28 - 0s - loss: 0.0077 - val_loss: 8.1623e-04 - 244ms/epoch - 9ms/step\n",
            "Epoch 23/100\n",
            "28/28 - 0s - loss: 0.0074 - val_loss: 8.0172e-04 - 222ms/epoch - 8ms/step\n",
            "Epoch 24/100\n",
            "28/28 - 0s - loss: 0.0081 - val_loss: 0.0017 - 237ms/epoch - 8ms/step\n",
            "Epoch 25/100\n",
            "28/28 - 0s - loss: 0.0072 - val_loss: 0.0011 - 240ms/epoch - 9ms/step\n",
            "Epoch 26/100\n",
            "28/28 - 0s - loss: 0.0076 - val_loss: 0.0038 - 231ms/epoch - 8ms/step\n",
            "Epoch 27/100\n",
            "28/28 - 0s - loss: 0.0071 - val_loss: 6.5370e-04 - 241ms/epoch - 9ms/step\n",
            "Epoch 28/100\n",
            "28/28 - 0s - loss: 0.0057 - val_loss: 0.0011 - 279ms/epoch - 10ms/step\n",
            "Epoch 29/100\n",
            "28/28 - 0s - loss: 0.0069 - val_loss: 0.0016 - 361ms/epoch - 13ms/step\n",
            "Epoch 30/100\n",
            "28/28 - 0s - loss: 0.0058 - val_loss: 8.0387e-04 - 364ms/epoch - 13ms/step\n",
            "Epoch 31/100\n",
            "28/28 - 0s - loss: 0.0056 - val_loss: 0.0033 - 340ms/epoch - 12ms/step\n",
            "Epoch 32/100\n",
            "28/28 - 0s - loss: 0.0056 - val_loss: 6.0671e-04 - 346ms/epoch - 12ms/step\n",
            "Epoch 33/100\n",
            "28/28 - 0s - loss: 0.0057 - val_loss: 6.3439e-04 - 371ms/epoch - 13ms/step\n",
            "Epoch 34/100\n",
            "28/28 - 0s - loss: 0.0059 - val_loss: 5.8978e-04 - 360ms/epoch - 13ms/step\n",
            "Epoch 35/100\n",
            "28/28 - 0s - loss: 0.0053 - val_loss: 0.0014 - 369ms/epoch - 13ms/step\n",
            "Epoch 36/100\n",
            "28/28 - 0s - loss: 0.0057 - val_loss: 0.0012 - 373ms/epoch - 13ms/step\n",
            "Epoch 37/100\n",
            "28/28 - 0s - loss: 0.0066 - val_loss: 7.7317e-04 - 372ms/epoch - 13ms/step\n",
            "Epoch 38/100\n",
            "28/28 - 0s - loss: 0.0047 - val_loss: 5.6093e-04 - 244ms/epoch - 9ms/step\n",
            "Epoch 39/100\n",
            "28/28 - 0s - loss: 0.0047 - val_loss: 0.0031 - 277ms/epoch - 10ms/step\n",
            "Epoch 40/100\n",
            "28/28 - 0s - loss: 0.0044 - val_loss: 0.0023 - 253ms/epoch - 9ms/step\n",
            "Epoch 41/100\n",
            "28/28 - 0s - loss: 0.0047 - val_loss: 5.8675e-04 - 246ms/epoch - 9ms/step\n",
            "Epoch 42/100\n",
            "28/28 - 0s - loss: 0.0047 - val_loss: 0.0029 - 227ms/epoch - 8ms/step\n",
            "Epoch 43/100\n",
            "28/28 - 0s - loss: 0.0039 - val_loss: 6.6221e-04 - 243ms/epoch - 9ms/step\n",
            "Epoch 44/100\n",
            "28/28 - 0s - loss: 0.0048 - val_loss: 5.9855e-04 - 230ms/epoch - 8ms/step\n",
            "Epoch 45/100\n",
            "28/28 - 0s - loss: 0.0044 - val_loss: 5.1339e-04 - 224ms/epoch - 8ms/step\n",
            "Epoch 46/100\n",
            "28/28 - 0s - loss: 0.0044 - val_loss: 6.7858e-04 - 286ms/epoch - 10ms/step\n",
            "Epoch 47/100\n",
            "28/28 - 0s - loss: 0.0038 - val_loss: 6.3912e-04 - 254ms/epoch - 9ms/step\n",
            "Epoch 48/100\n",
            "28/28 - 0s - loss: 0.0050 - val_loss: 5.3749e-04 - 230ms/epoch - 8ms/step\n",
            "Epoch 49/100\n",
            "28/28 - 0s - loss: 0.0042 - val_loss: 0.0020 - 220ms/epoch - 8ms/step\n",
            "Epoch 50/100\n",
            "28/28 - 0s - loss: 0.0044 - val_loss: 7.3085e-04 - 228ms/epoch - 8ms/step\n",
            "Epoch 51/100\n",
            "28/28 - 0s - loss: 0.0036 - val_loss: 7.3503e-04 - 231ms/epoch - 8ms/step\n",
            "Epoch 52/100\n",
            "28/28 - 0s - loss: 0.0037 - val_loss: 6.0694e-04 - 245ms/epoch - 9ms/step\n",
            "Epoch 53/100\n",
            "28/28 - 0s - loss: 0.0041 - val_loss: 5.9765e-04 - 225ms/epoch - 8ms/step\n",
            "Epoch 54/100\n",
            "28/28 - 0s - loss: 0.0038 - val_loss: 9.8588e-04 - 229ms/epoch - 8ms/step\n",
            "Epoch 55/100\n",
            "28/28 - 0s - loss: 0.0039 - val_loss: 0.0011 - 230ms/epoch - 8ms/step\n",
            "Epoch 56/100\n",
            "28/28 - 0s - loss: 0.0038 - val_loss: 0.0027 - 253ms/epoch - 9ms/step\n",
            "Epoch 57/100\n",
            "28/28 - 0s - loss: 0.0036 - val_loss: 0.0010 - 227ms/epoch - 8ms/step\n",
            "Epoch 58/100\n",
            "28/28 - 0s - loss: 0.0035 - val_loss: 4.7744e-04 - 239ms/epoch - 9ms/step\n",
            "Epoch 59/100\n",
            "28/28 - 0s - loss: 0.0037 - val_loss: 4.7975e-04 - 233ms/epoch - 8ms/step\n",
            "Epoch 60/100\n",
            "28/28 - 0s - loss: 0.0033 - val_loss: 5.1224e-04 - 262ms/epoch - 9ms/step\n",
            "Epoch 61/100\n",
            "28/28 - 0s - loss: 0.0034 - val_loss: 5.4609e-04 - 224ms/epoch - 8ms/step\n",
            "Epoch 62/100\n",
            "28/28 - 0s - loss: 0.0035 - val_loss: 4.5462e-04 - 242ms/epoch - 9ms/step\n",
            "Epoch 63/100\n",
            "28/28 - 0s - loss: 0.0030 - val_loss: 8.1631e-04 - 232ms/epoch - 8ms/step\n",
            "Epoch 64/100\n",
            "28/28 - 0s - loss: 0.0030 - val_loss: 0.0016 - 229ms/epoch - 8ms/step\n",
            "Epoch 65/100\n",
            "28/28 - 0s - loss: 0.0037 - val_loss: 8.6001e-04 - 243ms/epoch - 9ms/step\n",
            "Epoch 66/100\n",
            "28/28 - 0s - loss: 0.0034 - val_loss: 0.0017 - 239ms/epoch - 9ms/step\n",
            "Epoch 67/100\n",
            "28/28 - 0s - loss: 0.0033 - val_loss: 4.1632e-04 - 230ms/epoch - 8ms/step\n",
            "Epoch 68/100\n",
            "28/28 - 0s - loss: 0.0028 - val_loss: 7.6440e-04 - 237ms/epoch - 8ms/step\n",
            "Epoch 69/100\n",
            "28/28 - 0s - loss: 0.0030 - val_loss: 6.8022e-04 - 234ms/epoch - 8ms/step\n",
            "Epoch 70/100\n",
            "28/28 - 0s - loss: 0.0032 - val_loss: 0.0016 - 240ms/epoch - 9ms/step\n",
            "Epoch 71/100\n",
            "28/28 - 0s - loss: 0.0029 - val_loss: 6.8557e-04 - 244ms/epoch - 9ms/step\n",
            "Epoch 72/100\n",
            "28/28 - 0s - loss: 0.0029 - val_loss: 4.6275e-04 - 232ms/epoch - 8ms/step\n",
            "Epoch 73/100\n",
            "28/28 - 0s - loss: 0.0028 - val_loss: 4.4528e-04 - 240ms/epoch - 9ms/step\n",
            "Epoch 74/100\n",
            "28/28 - 0s - loss: 0.0028 - val_loss: 5.1694e-04 - 243ms/epoch - 9ms/step\n",
            "Epoch 75/100\n",
            "28/28 - 0s - loss: 0.0028 - val_loss: 6.3621e-04 - 231ms/epoch - 8ms/step\n",
            "Epoch 76/100\n",
            "28/28 - 0s - loss: 0.0029 - val_loss: 9.6517e-04 - 237ms/epoch - 8ms/step\n",
            "Epoch 77/100\n",
            "28/28 - 0s - loss: 0.0031 - val_loss: 4.1331e-04 - 270ms/epoch - 10ms/step\n",
            "Epoch 78/100\n",
            "28/28 - 0s - loss: 0.0027 - val_loss: 8.4595e-04 - 403ms/epoch - 14ms/step\n",
            "Epoch 79/100\n",
            "28/28 - 1s - loss: 0.0026 - val_loss: 7.1081e-04 - 622ms/epoch - 22ms/step\n",
            "Epoch 80/100\n",
            "28/28 - 1s - loss: 0.0025 - val_loss: 4.2687e-04 - 711ms/epoch - 25ms/step\n",
            "Epoch 81/100\n",
            "28/28 - 1s - loss: 0.0026 - val_loss: 4.8710e-04 - 630ms/epoch - 22ms/step\n",
            "Epoch 82/100\n",
            "28/28 - 1s - loss: 0.0027 - val_loss: 4.4233e-04 - 550ms/epoch - 20ms/step\n",
            "Epoch 83/100\n",
            "28/28 - 1s - loss: 0.0025 - val_loss: 6.4816e-04 - 587ms/epoch - 21ms/step\n",
            "Epoch 84/100\n",
            "28/28 - 1s - loss: 0.0028 - val_loss: 0.0015 - 751ms/epoch - 27ms/step\n",
            "Epoch 85/100\n",
            "28/28 - 0s - loss: 0.0024 - val_loss: 4.0526e-04 - 475ms/epoch - 17ms/step\n",
            "Epoch 86/100\n",
            "28/28 - 0s - loss: 0.0024 - val_loss: 6.8508e-04 - 432ms/epoch - 15ms/step\n",
            "Epoch 87/100\n",
            "28/28 - 0s - loss: 0.0028 - val_loss: 6.1103e-04 - 442ms/epoch - 16ms/step\n",
            "Epoch 88/100\n",
            "28/28 - 1s - loss: 0.0025 - val_loss: 6.5758e-04 - 518ms/epoch - 19ms/step\n",
            "Epoch 89/100\n",
            "28/28 - 0s - loss: 0.0026 - val_loss: 4.8638e-04 - 458ms/epoch - 16ms/step\n",
            "Epoch 90/100\n",
            "28/28 - 0s - loss: 0.0025 - val_loss: 5.0761e-04 - 494ms/epoch - 18ms/step\n",
            "Epoch 91/100\n",
            "28/28 - 0s - loss: 0.0028 - val_loss: 8.2723e-04 - 497ms/epoch - 18ms/step\n",
            "Epoch 92/100\n",
            "28/28 - 1s - loss: 0.0025 - val_loss: 4.4399e-04 - 502ms/epoch - 18ms/step\n",
            "Epoch 93/100\n",
            "28/28 - 1s - loss: 0.0030 - val_loss: 4.0652e-04 - 558ms/epoch - 20ms/step\n",
            "Epoch 94/100\n",
            "28/28 - 0s - loss: 0.0025 - val_loss: 6.4250e-04 - 431ms/epoch - 15ms/step\n",
            "Epoch 95/100\n",
            "28/28 - 1s - loss: 0.0025 - val_loss: 4.2796e-04 - 579ms/epoch - 21ms/step\n",
            "Epoch 96/100\n",
            "28/28 - 0s - loss: 0.0024 - val_loss: 6.5633e-04 - 448ms/epoch - 16ms/step\n",
            "Epoch 97/100\n",
            "28/28 - 0s - loss: 0.0026 - val_loss: 3.8841e-04 - 451ms/epoch - 16ms/step\n",
            "Epoch 98/100\n",
            "28/28 - 1s - loss: 0.0022 - val_loss: 7.5559e-04 - 530ms/epoch - 19ms/step\n",
            "Epoch 99/100\n",
            "28/28 - 1s - loss: 0.0024 - val_loss: 8.5978e-04 - 550ms/epoch - 20ms/step\n",
            "Epoch 100/100\n",
            "28/28 - 0s - loss: 0.0023 - val_loss: 3.6621e-04 - 496ms/epoch - 18ms/step\n"
          ]
        }
      ],
      "source": [
        "# Treinando a RNN\n",
        "history = model.fit(X_train, y_train, epochs=100, batch_size=32, validation_split=0.1, verbose=2)"
      ]
    },
    {
      "cell_type": "code",
      "execution_count": 44,
      "metadata": {
        "colab": {
          "base_uri": "https://localhost:8080/",
          "height": 567
        },
        "id": "xkXO_MQQQjEg",
        "outputId": "ce4485c4-4e54-4e0c-fb30-92e378c1a810"
      },
      "outputs": [
        {
          "output_type": "display_data",
          "data": {
            "text/plain": [
              "<Figure size 1200x600 with 1 Axes>"
            ],
            "image/png": "[encoded data removed]"
          },
          "metadata": {}
        }
      ],
      "source": [
        "plt.figure(figsize=(12, 6))\n",
        "\n",
        "# Plotando a perda de treinamento\n",
        "plt.plot(history.history['loss'], label='Perda de Treinamento')\n",
        "\n",
        "# Plotando a perda de validação\n",
        "plt.plot(history.history['val_loss'], label='Perda de Validação')\n",
        "\n",
        "# Adicionando título e legendas\n",
        "plt.title('Histórico de Treinamento e Validação')\n",
        "plt.xlabel('Épocas')\n",
        "plt.ylabel('Perda')\n",
        "plt.legend()\n",
        "\n",
        "# Exibindo o gráfico\n",
        "plt.show()"
      ]
    },
    {
      "cell_type": "code",
      "execution_count": 45,
      "metadata": {
        "colab": {
          "base_uri": "https://localhost:8080/"
        },
        "id": "rQNbsClgQjEg",
        "outputId": "12e7995e-b7ca-4969-c95e-1a9cc367c600"
      },
      "outputs": [
        {
          "output_type": "stream",
          "name": "stdout",
          "text": [
            "32/32 [==============================] - 0s 3ms/step\n",
            "8/8 [==============================] - 0s 4ms/step\n"
          ]
        }
      ],
      "source": [
        "# Fazendo previsões\n",
        "train_predict = model.predict(X_train)\n",
        "test_predict = model.predict(X_test)\n",
        "\n",
        "# Invertendo a normalização para obter os valores reais\n",
        "train_predict = scaler.inverse_transform(train_predict)\n",
        "test_predict = scaler.inverse_transform(test_predict)\n",
        "y_train = scaler.inverse_transform(y_train.reshape(-1, 1))\n",
        "y_test = scaler.inverse_transform(y_test.reshape(-1, 1))"
      ]
    },
    {
      "cell_type": "markdown",
      "metadata": {
        "id": "yC3eYbrNQjEh"
      },
      "source": [
        "### 4. Problemas de RNNs: Desvanecimento e Explosão de Gradientes\n",
        "\n",
        "#### Desafios com Gradientes em RNNs\n",
        "\n",
        "As Redes Neurais Recorrentes (RNNs) enfrentam dois problemas principais durante o treinamento: desvanecimento de gradientes e explosão de gradientes. Ambos os problemas ocorrem devido à maneira como os gradientes são propagados através do tempo na rede.\n",
        "\n",
        "- **Problemas de Desvanecimento de Gradientes**\n",
        "  - **Descrição**: Ocorre quando os gradientes dos erros em relação aos pesos tornam-se extremamente pequenos durante a propagação retroativa (backpropagation through time - BPTT).\n",
        "  - **Causa**: Quando a função de ativação utilizada tem derivadas pequenas (como a tanh e a sigmoid), os gradientes podem diminuir exponencialmente à medida que são propagados para trás ao longo de muitos passos temporais.\n",
        "  - **Impacto**: Pesos nas camadas iniciais da rede são ajustados muito pouco, resultando em uma aprendizagem lenta ou estagnada para essas camadas. A rede tem dificuldade em aprender dependências de longo prazo.\n",
        "\n",
        "- **Problemas de Explosão de Gradientes**\n",
        "  - **Descrição**: Ocorre quando os gradientes dos erros em relação aos pesos tornam-se extremamente grandes durante a BPTT.\n",
        "  - **Causa**: Quando os pesos da rede são grandes ou quando a função de ativação tem derivadas grandes, os gradientes podem aumentar exponencialmente à medida que são propagados para trás ao longo de muitos passos temporais.\n",
        "  - **Impacto**: Pesos nas camadas iniciais da rede são ajustados excessivamente, resultando em atualizações instáveis dos pesos e em possíveis falhas no treinamento.\n",
        "\n",
        "#### Técnicas para Mitigar Desafios\n",
        "\n",
        "Para lidar com os problemas de desvanecimento e explosão de gradientes em RNNs, várias técnicas podem ser aplicadas:\n",
        "\n",
        "- **Métodos de Regularização**\n",
        "  - **Dropout**: Uma técnica que consiste em desligar (definir como zero) aleatoriamente algumas unidades na rede durante o treinamento. Isso ajuda a prevenir o overfitting e pode estabilizar a atualização dos pesos.\n",
        "  - **Regularização L2**: Adiciona uma penalidade ao custo total da rede baseada na magnitude dos pesos. Isso ajuda a manter os pesos pequenos e estabiliza a propagação dos gradientes.\n",
        "\n",
        "- **Uso de Funções de Ativação Apropriadas**\n",
        "  - **ReLU (Rectified Linear Unit)**: Funciona bem para evitar desvanecimento de gradientes, mas pode levar à explosão de gradientes se não for combinado com outras técnicas de normalização.\n",
        "  - **Leaky ReLU**: Uma variação do ReLU que permite pequenos valores negativos, ajudando a manter um fluxo de gradientes mesmo para neurônios que, de outra forma, estariam inativos.\n",
        "\n",
        "- **Normalização de Gradientes**\n",
        "  - **Clipping de Gradientes**: Limita o valor máximo dos gradientes durante a BPTT. Quando os gradientes excedem um determinado limiar, eles são ajustados para esse valor limite. Isso ajuda a prevenir a explosão de gradientes.\n",
        "  - **Batch Normalization**: Normaliza a entrada de cada camada com base nas estatísticas de mini-batches durante o treinamento. Isso ajuda a estabilizar e acelerar a convergência.\n",
        "\n",
        "\n",
        "\n",
        "\n",
        "## Referências\n",
        "- Goodfellow, I., Bengio, Y., & Courville, A. (2016). Deep Learning. MIT Press.\n",
        "- Olah, C. (2015). Understanding LSTM Networks. [Link para o artigo](http://colah.github.io/posts/2015-08-Understanding-LSTMs/)."
      ]
    },
    {
      "cell_type": "code",
      "execution_count": 46,
      "metadata": {
        "colab": {
          "base_uri": "https://localhost:8080/",
          "height": 543
        },
        "id": "7r8CIAaGQjEh",
        "outputId": "f2d871db-c587-4b15-fb76-fd0d7f323cf3"
      },
      "outputs": [
        {
          "output_type": "display_data",
          "data": {
            "text/plain": [
              "<Figure size 1200x600 with 1 Axes>"
            ],
            "image/png": "[encoded data removed]"
          },
          "metadata": {}
        }
      ],
      "source": [
        "# Plotando os resultados\n",
        "plt.figure(figsize=(12, 6))\n",
        "train_range = range(time_step, time_step + len(train_predict))\n",
        "test_range = range(time_step + len(train_predict), time_step + len(train_predict) + len(test_predict))\n",
        "plt.plot(train_range, y_train, label='Real de treino', color='green')\n",
        "plt.plot(test_range, y_test, label='Real de teste', color='green')\n",
        "plt.plot(train_range, train_predict, label='Previsões de treino')\n",
        "plt.plot(test_range, test_predict, label='Previsões de teste')\n",
        "plt.xlabel('Dias')\n",
        "plt.ylabel('Preço de Fechamento Normalizado')\n",
        "plt.legend()\n",
        "plt.show()"
      ]
    },
    {
      "cell_type": "code",
      "execution_count": 47,
      "metadata": {
        "colab": {
          "base_uri": "https://localhost:8080/"
        },
        "id": "SdW09aShQjEi",
        "outputId": "832c9242-5d1a-4680-f473-4c6555e37cea"
      },
      "outputs": [
        {
          "output_type": "stream",
          "name": "stdout",
          "text": [
            "Mean Absolute Error (MAE): 1.2329300036621735\n",
            "Mean Squared Error (MSE): 2.6139170274515924\n",
            "Root Mean Squared Error (RMSE): 1.6167612771994486\n",
            "Coefficient of Determination (R²): 0.9197130761660521\n"
          ]
        }
      ],
      "source": [
        "regression_metrics(y_test, test_predict)"
      ]
    },
    {
      "cell_type": "code",
      "execution_count": 48,
      "metadata": {
        "colab": {
          "base_uri": "https://localhost:8080/"
        },
        "id": "qig2LfLSQjEi",
        "outputId": "17693117-002f-4984-a056-9415d0903f02"
      },
      "outputs": [
        {
          "output_type": "stream",
          "name": "stdout",
          "text": [
            "Mean Absolute Error (MAE): 1.6822282974722984\n",
            "Mean Squared Error (MSE): 13.380735397248408\n",
            "Root Mean Squared Error (RMSE): 3.6579687529076037\n",
            "Coefficient of Determination (R²): 0.9853643892948372\n"
          ]
        }
      ],
      "source": [
        "regression_metrics(y_train, train_predict)"
      ]
    }
  ],
  "metadata": {
    "kernelspec": {
      "display_name": "base",
      "language": "python",
      "name": "python3"
    },
    "language_info": {
      "codemirror_mode": {
        "name": "ipython",
        "version": 3
      },
      "file_extension": ".py",
      "mimetype": "text/x-python",
      "name": "python",
      "nbconvert_exporter": "python",
      "pygments_lexer": "ipython3",
      "version": "3.11.7"
    },
    "colab": {
      "provenance": []
    }
  },
  "nbformat": 4,
  "nbformat_minor": 0
}